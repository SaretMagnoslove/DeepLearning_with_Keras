{
 "cells": [
  {
   "cell_type": "code",
   "execution_count": 1,
   "metadata": {},
   "outputs": [
    {
     "name": "stderr",
     "output_type": "stream",
     "text": [
      "E:\\Anaconda3\\lib\\site-packages\\h5py\\__init__.py:72: UserWarning: h5py is running against HDF5 1.10.2 when it was built against 1.10.3, this may cause problems\n",
      "  '{0}.{1}.{2}'.format(*version.hdf5_built_version_tuple)\n",
      "Using TensorFlow backend.\n"
     ]
    }
   ],
   "source": [
    "import numpy as np\n",
    "import keras\n",
    "from keras import backend as k\n",
    "from keras.models import Model\n",
    "from keras.models import Sequential\n",
    "from keras.layers import Activation\n",
    "from keras.layers.core import Dense, Flatten\n",
    "from keras.optimizers import Adam\n",
    "from keras.metrics import categorical_crossentropy\n",
    "from keras.preprocessing.image import ImageDataGenerator\n",
    "from keras.layers.normalization import BatchNormalization\n",
    "from keras.layers.convolutional import *\n",
    "import matplotlib.pyplot as plt\n",
    "%matplotlib inline"
   ]
  },
  {
   "cell_type": "code",
   "execution_count": 2,
   "metadata": {},
   "outputs": [],
   "source": [
    "train_path = 'SignLanguageDataset/train'\n",
    "valid_path = 'SignLanguageDataset/valid'\n",
    "test_path = 'SignLanguageDataset/test'"
   ]
  },
  {
   "cell_type": "code",
   "execution_count": 3,
   "metadata": {},
   "outputs": [
    {
     "name": "stdout",
     "output_type": "stream",
     "text": [
      "Found 1512 images belonging to 10 classes.\n",
      "Found 500 images belonging to 10 classes.\n",
      "Found 50 images belonging to 10 classes.\n"
     ]
    }
   ],
   "source": [
    "train_batchs = ImageDataGenerator(preprocessing_function=keras.applications.mobilenet.preprocess_input).flow_from_directory(train_path, target_size=(224,224), batch_size=10)\n",
    "valid_batchs = ImageDataGenerator(preprocessing_function=keras.applications.mobilenet.preprocess_input).flow_from_directory(valid_path, target_size=(224,224), batch_size=10)\n",
    "test_batchs = ImageDataGenerator(preprocessing_function=keras.applications.mobilenet.preprocess_input).flow_from_directory(test_path, target_size=(224,224), batch_size=10, shuffle=False)"
   ]
  },
  {
   "cell_type": "code",
   "execution_count": 4,
   "metadata": {},
   "outputs": [
    {
     "name": "stdout",
     "output_type": "stream",
     "text": [
      "_________________________________________________________________\n",
      "Layer (type)                 Output Shape              Param #   \n",
      "=================================================================\n",
      "input_1 (InputLayer)         (None, 224, 224, 3)       0         \n",
      "_________________________________________________________________\n",
      "conv1_pad (ZeroPadding2D)    (None, 225, 225, 3)       0         \n",
      "_________________________________________________________________\n",
      "conv1 (Conv2D)               (None, 112, 112, 32)      864       \n",
      "_________________________________________________________________\n",
      "conv1_bn (BatchNormalization (None, 112, 112, 32)      128       \n",
      "_________________________________________________________________\n",
      "conv1_relu (ReLU)            (None, 112, 112, 32)      0         \n",
      "_________________________________________________________________\n",
      "conv_dw_1 (DepthwiseConv2D)  (None, 112, 112, 32)      288       \n",
      "_________________________________________________________________\n",
      "conv_dw_1_bn (BatchNormaliza (None, 112, 112, 32)      128       \n",
      "_________________________________________________________________\n",
      "conv_dw_1_relu (ReLU)        (None, 112, 112, 32)      0         \n",
      "_________________________________________________________________\n",
      "conv_pw_1 (Conv2D)           (None, 112, 112, 64)      2048      \n",
      "_________________________________________________________________\n",
      "conv_pw_1_bn (BatchNormaliza (None, 112, 112, 64)      256       \n",
      "_________________________________________________________________\n",
      "conv_pw_1_relu (ReLU)        (None, 112, 112, 64)      0         \n",
      "_________________________________________________________________\n",
      "conv_pad_2 (ZeroPadding2D)   (None, 113, 113, 64)      0         \n",
      "_________________________________________________________________\n",
      "conv_dw_2 (DepthwiseConv2D)  (None, 56, 56, 64)        576       \n",
      "_________________________________________________________________\n",
      "conv_dw_2_bn (BatchNormaliza (None, 56, 56, 64)        256       \n",
      "_________________________________________________________________\n",
      "conv_dw_2_relu (ReLU)        (None, 56, 56, 64)        0         \n",
      "_________________________________________________________________\n",
      "conv_pw_2 (Conv2D)           (None, 56, 56, 128)       8192      \n",
      "_________________________________________________________________\n",
      "conv_pw_2_bn (BatchNormaliza (None, 56, 56, 128)       512       \n",
      "_________________________________________________________________\n",
      "conv_pw_2_relu (ReLU)        (None, 56, 56, 128)       0         \n",
      "_________________________________________________________________\n",
      "conv_dw_3 (DepthwiseConv2D)  (None, 56, 56, 128)       1152      \n",
      "_________________________________________________________________\n",
      "conv_dw_3_bn (BatchNormaliza (None, 56, 56, 128)       512       \n",
      "_________________________________________________________________\n",
      "conv_dw_3_relu (ReLU)        (None, 56, 56, 128)       0         \n",
      "_________________________________________________________________\n",
      "conv_pw_3 (Conv2D)           (None, 56, 56, 128)       16384     \n",
      "_________________________________________________________________\n",
      "conv_pw_3_bn (BatchNormaliza (None, 56, 56, 128)       512       \n",
      "_________________________________________________________________\n",
      "conv_pw_3_relu (ReLU)        (None, 56, 56, 128)       0         \n",
      "_________________________________________________________________\n",
      "conv_pad_4 (ZeroPadding2D)   (None, 57, 57, 128)       0         \n",
      "_________________________________________________________________\n",
      "conv_dw_4 (DepthwiseConv2D)  (None, 28, 28, 128)       1152      \n",
      "_________________________________________________________________\n",
      "conv_dw_4_bn (BatchNormaliza (None, 28, 28, 128)       512       \n",
      "_________________________________________________________________\n",
      "conv_dw_4_relu (ReLU)        (None, 28, 28, 128)       0         \n",
      "_________________________________________________________________\n",
      "conv_pw_4 (Conv2D)           (None, 28, 28, 256)       32768     \n",
      "_________________________________________________________________\n",
      "conv_pw_4_bn (BatchNormaliza (None, 28, 28, 256)       1024      \n",
      "_________________________________________________________________\n",
      "conv_pw_4_relu (ReLU)        (None, 28, 28, 256)       0         \n",
      "_________________________________________________________________\n",
      "conv_dw_5 (DepthwiseConv2D)  (None, 28, 28, 256)       2304      \n",
      "_________________________________________________________________\n",
      "conv_dw_5_bn (BatchNormaliza (None, 28, 28, 256)       1024      \n",
      "_________________________________________________________________\n",
      "conv_dw_5_relu (ReLU)        (None, 28, 28, 256)       0         \n",
      "_________________________________________________________________\n",
      "conv_pw_5 (Conv2D)           (None, 28, 28, 256)       65536     \n",
      "_________________________________________________________________\n",
      "conv_pw_5_bn (BatchNormaliza (None, 28, 28, 256)       1024      \n",
      "_________________________________________________________________\n",
      "conv_pw_5_relu (ReLU)        (None, 28, 28, 256)       0         \n",
      "_________________________________________________________________\n",
      "conv_pad_6 (ZeroPadding2D)   (None, 29, 29, 256)       0         \n",
      "_________________________________________________________________\n",
      "conv_dw_6 (DepthwiseConv2D)  (None, 14, 14, 256)       2304      \n",
      "_________________________________________________________________\n",
      "conv_dw_6_bn (BatchNormaliza (None, 14, 14, 256)       1024      \n",
      "_________________________________________________________________\n",
      "conv_dw_6_relu (ReLU)        (None, 14, 14, 256)       0         \n",
      "_________________________________________________________________\n",
      "conv_pw_6 (Conv2D)           (None, 14, 14, 512)       131072    \n",
      "_________________________________________________________________\n",
      "conv_pw_6_bn (BatchNormaliza (None, 14, 14, 512)       2048      \n",
      "_________________________________________________________________\n",
      "conv_pw_6_relu (ReLU)        (None, 14, 14, 512)       0         \n",
      "_________________________________________________________________\n",
      "conv_dw_7 (DepthwiseConv2D)  (None, 14, 14, 512)       4608      \n",
      "_________________________________________________________________\n",
      "conv_dw_7_bn (BatchNormaliza (None, 14, 14, 512)       2048      \n",
      "_________________________________________________________________\n",
      "conv_dw_7_relu (ReLU)        (None, 14, 14, 512)       0         \n",
      "_________________________________________________________________\n",
      "conv_pw_7 (Conv2D)           (None, 14, 14, 512)       262144    \n",
      "_________________________________________________________________\n",
      "conv_pw_7_bn (BatchNormaliza (None, 14, 14, 512)       2048      \n",
      "_________________________________________________________________\n",
      "conv_pw_7_relu (ReLU)        (None, 14, 14, 512)       0         \n",
      "_________________________________________________________________\n",
      "conv_dw_8 (DepthwiseConv2D)  (None, 14, 14, 512)       4608      \n",
      "_________________________________________________________________\n",
      "conv_dw_8_bn (BatchNormaliza (None, 14, 14, 512)       2048      \n",
      "_________________________________________________________________\n",
      "conv_dw_8_relu (ReLU)        (None, 14, 14, 512)       0         \n",
      "_________________________________________________________________\n",
      "conv_pw_8 (Conv2D)           (None, 14, 14, 512)       262144    \n",
      "_________________________________________________________________\n",
      "conv_pw_8_bn (BatchNormaliza (None, 14, 14, 512)       2048      \n",
      "_________________________________________________________________\n",
      "conv_pw_8_relu (ReLU)        (None, 14, 14, 512)       0         \n",
      "_________________________________________________________________\n",
      "conv_dw_9 (DepthwiseConv2D)  (None, 14, 14, 512)       4608      \n",
      "_________________________________________________________________\n",
      "conv_dw_9_bn (BatchNormaliza (None, 14, 14, 512)       2048      \n",
      "_________________________________________________________________\n",
      "conv_dw_9_relu (ReLU)        (None, 14, 14, 512)       0         \n",
      "_________________________________________________________________\n",
      "conv_pw_9 (Conv2D)           (None, 14, 14, 512)       262144    \n",
      "_________________________________________________________________\n",
      "conv_pw_9_bn (BatchNormaliza (None, 14, 14, 512)       2048      \n",
      "_________________________________________________________________\n",
      "conv_pw_9_relu (ReLU)        (None, 14, 14, 512)       0         \n",
      "_________________________________________________________________\n",
      "conv_dw_10 (DepthwiseConv2D) (None, 14, 14, 512)       4608      \n",
      "_________________________________________________________________\n",
      "conv_dw_10_bn (BatchNormaliz (None, 14, 14, 512)       2048      \n",
      "_________________________________________________________________\n",
      "conv_dw_10_relu (ReLU)       (None, 14, 14, 512)       0         \n",
      "_________________________________________________________________\n",
      "conv_pw_10 (Conv2D)          (None, 14, 14, 512)       262144    \n",
      "_________________________________________________________________\n",
      "conv_pw_10_bn (BatchNormaliz (None, 14, 14, 512)       2048      \n",
      "_________________________________________________________________\n",
      "conv_pw_10_relu (ReLU)       (None, 14, 14, 512)       0         \n",
      "_________________________________________________________________\n",
      "conv_dw_11 (DepthwiseConv2D) (None, 14, 14, 512)       4608      \n",
      "_________________________________________________________________\n",
      "conv_dw_11_bn (BatchNormaliz (None, 14, 14, 512)       2048      \n",
      "_________________________________________________________________\n",
      "conv_dw_11_relu (ReLU)       (None, 14, 14, 512)       0         \n",
      "_________________________________________________________________\n",
      "conv_pw_11 (Conv2D)          (None, 14, 14, 512)       262144    \n",
      "_________________________________________________________________\n",
      "conv_pw_11_bn (BatchNormaliz (None, 14, 14, 512)       2048      \n",
      "_________________________________________________________________\n",
      "conv_pw_11_relu (ReLU)       (None, 14, 14, 512)       0         \n",
      "_________________________________________________________________\n",
      "conv_pad_12 (ZeroPadding2D)  (None, 15, 15, 512)       0         \n",
      "_________________________________________________________________\n",
      "conv_dw_12 (DepthwiseConv2D) (None, 7, 7, 512)         4608      \n",
      "_________________________________________________________________\n",
      "conv_dw_12_bn (BatchNormaliz (None, 7, 7, 512)         2048      \n",
      "_________________________________________________________________\n",
      "conv_dw_12_relu (ReLU)       (None, 7, 7, 512)         0         \n",
      "_________________________________________________________________\n",
      "conv_pw_12 (Conv2D)          (None, 7, 7, 1024)        524288    \n",
      "_________________________________________________________________\n",
      "conv_pw_12_bn (BatchNormaliz (None, 7, 7, 1024)        4096      \n",
      "_________________________________________________________________\n",
      "conv_pw_12_relu (ReLU)       (None, 7, 7, 1024)        0         \n",
      "_________________________________________________________________\n",
      "conv_dw_13 (DepthwiseConv2D) (None, 7, 7, 1024)        9216      \n",
      "_________________________________________________________________\n",
      "conv_dw_13_bn (BatchNormaliz (None, 7, 7, 1024)        4096      \n",
      "_________________________________________________________________\n",
      "conv_dw_13_relu (ReLU)       (None, 7, 7, 1024)        0         \n",
      "_________________________________________________________________\n",
      "conv_pw_13 (Conv2D)          (None, 7, 7, 1024)        1048576   \n",
      "_________________________________________________________________\n",
      "conv_pw_13_bn (BatchNormaliz (None, 7, 7, 1024)        4096      \n",
      "_________________________________________________________________\n",
      "conv_pw_13_relu (ReLU)       (None, 7, 7, 1024)        0         \n",
      "_________________________________________________________________\n",
      "global_average_pooling2d_1 ( (None, 1024)              0         \n",
      "_________________________________________________________________\n",
      "reshape_1 (Reshape)          (None, 1, 1, 1024)        0         \n",
      "_________________________________________________________________\n",
      "dropout (Dropout)            (None, 1, 1, 1024)        0         \n",
      "_________________________________________________________________\n",
      "conv_preds (Conv2D)          (None, 1, 1, 1000)        1025000   \n",
      "_________________________________________________________________\n",
      "act_softmax (Activation)     (None, 1, 1, 1000)        0         \n",
      "_________________________________________________________________\n",
      "reshape_2 (Reshape)          (None, 1000)              0         \n",
      "=================================================================\n",
      "Total params: 4,253,864\n",
      "Trainable params: 4,231,976\n",
      "Non-trainable params: 21,888\n",
      "_________________________________________________________________\n"
     ]
    }
   ],
   "source": [
    "mobile = keras.applications.mobilenet.MobileNet()\n",
    "mobile.summary()"
   ]
  },
  {
   "cell_type": "code",
   "execution_count": 5,
   "metadata": {},
   "outputs": [
    {
     "name": "stderr",
     "output_type": "stream",
     "text": [
      "E:\\Anaconda3\\lib\\site-packages\\ipykernel_launcher.py:3: UserWarning: Update your `Model` call to the Keras 2 API: `Model(inputs=Tensor(\"in..., outputs=Tensor(\"de...)`\n",
      "  This is separate from the ipykernel package so we can avoid doing imports until\n"
     ]
    }
   ],
   "source": [
    "x = mobile.layers[-6].output\n",
    "predictions = Dense(10, activation='softmax')(x)\n",
    "model = Model(input=mobile.input, output=predictions)"
   ]
  },
  {
   "cell_type": "code",
   "execution_count": 6,
   "metadata": {},
   "outputs": [],
   "source": [
    "for layer in model.layers[:-23]:\n",
    "    layer.trainable = False"
   ]
  },
  {
   "cell_type": "code",
   "execution_count": 7,
   "metadata": {},
   "outputs": [],
   "source": [
    "model.compile(Adam(lr=1e-3), loss='categorical_crossentropy', metrics=['accuracy'])"
   ]
  },
  {
   "cell_type": "code",
   "execution_count": 8,
   "metadata": {},
   "outputs": [
    {
     "name": "stdout",
     "output_type": "stream",
     "text": [
      "Epoch 1/60\n",
      "18/18 [==============================] - 12s 648ms/step - loss: 1.3042 - acc: 0.5778 - val_loss: 4.2619 - val_acc: 0.2600\n",
      "Epoch 2/60\n",
      "18/18 [==============================] - 4s 236ms/step - loss: 0.7053 - acc: 0.7556 - val_loss: 3.8807 - val_acc: 0.2520\n",
      "Epoch 3/60\n",
      "18/18 [==============================] - 4s 238ms/step - loss: 0.3881 - acc: 0.8889 - val_loss: 3.3208 - val_acc: 0.3600\n",
      "Epoch 4/60\n",
      "18/18 [==============================] - 5s 266ms/step - loss: 0.2183 - acc: 0.9220 - val_loss: 2.6139 - val_acc: 0.4320\n",
      "Epoch 5/60\n",
      "18/18 [==============================] - 4s 237ms/step - loss: 0.1961 - acc: 0.9389 - val_loss: 2.8278 - val_acc: 0.4240\n",
      "Epoch 6/60\n",
      "18/18 [==============================] - 4s 237ms/step - loss: 0.2281 - acc: 0.9278 - val_loss: 1.8690 - val_acc: 0.5080\n",
      "Epoch 7/60\n",
      "18/18 [==============================] - 4s 238ms/step - loss: 0.3071 - acc: 0.9111 - val_loss: 1.2259 - val_acc: 0.6220\n",
      "Epoch 8/60\n",
      "18/18 [==============================] - 4s 237ms/step - loss: 0.1697 - acc: 0.9500 - val_loss: 3.7445 - val_acc: 0.3060\n",
      "Epoch 9/60\n",
      "18/18 [==============================] - 4s 238ms/step - loss: 0.1742 - acc: 0.9500 - val_loss: 4.2777 - val_acc: 0.2960\n",
      "Epoch 10/60\n",
      "18/18 [==============================] - 4s 236ms/step - loss: 0.0722 - acc: 0.9778 - val_loss: 2.9948 - val_acc: 0.3280\n",
      "Epoch 11/60\n",
      "18/18 [==============================] - 4s 234ms/step - loss: 0.1032 - acc: 0.9511 - val_loss: 1.3578 - val_acc: 0.6740\n",
      "Epoch 12/60\n",
      "18/18 [==============================] - 4s 236ms/step - loss: 0.0859 - acc: 0.9833 - val_loss: 0.5792 - val_acc: 0.7900\n",
      "Epoch 13/60\n",
      "18/18 [==============================] - 4s 237ms/step - loss: 0.1409 - acc: 0.9556 - val_loss: 0.9879 - val_acc: 0.7660\n",
      "Epoch 14/60\n",
      "18/18 [==============================] - 4s 237ms/step - loss: 0.0863 - acc: 0.9722 - val_loss: 2.4899 - val_acc: 0.4620\n",
      "Epoch 15/60\n",
      "18/18 [==============================] - 4s 237ms/step - loss: 0.0604 - acc: 0.9722 - val_loss: 3.0039 - val_acc: 0.4520\n",
      "Epoch 16/60\n",
      "18/18 [==============================] - 4s 237ms/step - loss: 0.1184 - acc: 0.9722 - val_loss: 2.6152 - val_acc: 0.3620\n",
      "Epoch 17/60\n",
      "18/18 [==============================] - 4s 238ms/step - loss: 0.1331 - acc: 0.9667 - val_loss: 1.3804 - val_acc: 0.6060\n",
      "Epoch 18/60\n",
      "18/18 [==============================] - 4s 235ms/step - loss: 0.0174 - acc: 1.0000 - val_loss: 1.3513 - val_acc: 0.6080\n",
      "Epoch 19/60\n",
      "18/18 [==============================] - 4s 237ms/step - loss: 0.0122 - acc: 1.0000 - val_loss: 0.9414 - val_acc: 0.7120\n",
      "Epoch 20/60\n",
      "18/18 [==============================] - 4s 237ms/step - loss: 0.0134 - acc: 1.0000 - val_loss: 0.6398 - val_acc: 0.8100\n",
      "Epoch 21/60\n",
      "18/18 [==============================] - 4s 237ms/step - loss: 0.0395 - acc: 0.9778 - val_loss: 0.3997 - val_acc: 0.8660\n",
      "Epoch 22/60\n",
      "18/18 [==============================] - 4s 237ms/step - loss: 0.0448 - acc: 0.9833 - val_loss: 1.6808 - val_acc: 0.5680\n",
      "Epoch 23/60\n",
      "18/18 [==============================] - 4s 237ms/step - loss: 0.0539 - acc: 0.9889 - val_loss: 4.2966 - val_acc: 0.2780\n",
      "Epoch 24/60\n",
      "18/18 [==============================] - 4s 238ms/step - loss: 0.0814 - acc: 0.9667 - val_loss: 4.5336 - val_acc: 0.2840\n",
      "Epoch 25/60\n",
      "18/18 [==============================] - 4s 237ms/step - loss: 0.0415 - acc: 0.9833 - val_loss: 3.8075 - val_acc: 0.3580\n",
      "Epoch 26/60\n",
      "18/18 [==============================] - 4s 237ms/step - loss: 0.0573 - acc: 0.9778 - val_loss: 1.1234 - val_acc: 0.6720\n",
      "Epoch 27/60\n",
      "18/18 [==============================] - 4s 237ms/step - loss: 0.0250 - acc: 0.9889 - val_loss: 0.8782 - val_acc: 0.7200\n",
      "Epoch 28/60\n",
      "18/18 [==============================] - 4s 237ms/step - loss: 0.0258 - acc: 0.9944 - val_loss: 0.8919 - val_acc: 0.7280\n",
      "Epoch 29/60\n",
      "18/18 [==============================] - 4s 237ms/step - loss: 0.0170 - acc: 0.9944 - val_loss: 0.5093 - val_acc: 0.8240\n",
      "Epoch 30/60\n",
      "18/18 [==============================] - 4s 235ms/step - loss: 0.3092 - acc: 0.8855 - val_loss: 7.8307 - val_acc: 0.1140\n",
      "Epoch 31/60\n",
      "18/18 [==============================] - 4s 239ms/step - loss: 0.1214 - acc: 0.9722 - val_loss: 11.4753 - val_acc: 0.1020\n",
      "Epoch 32/60\n",
      "18/18 [==============================] - 4s 238ms/step - loss: 0.1039 - acc: 0.9611 - val_loss: 4.2392 - val_acc: 0.3480\n",
      "Epoch 33/60\n",
      "18/18 [==============================] - 4s 238ms/step - loss: 0.1545 - acc: 0.9667 - val_loss: 2.8352 - val_acc: 0.5240\n",
      "Epoch 34/60\n",
      "18/18 [==============================] - 4s 237ms/step - loss: 0.1299 - acc: 0.9778 - val_loss: 2.1242 - val_acc: 0.6560\n",
      "Epoch 35/60\n",
      "18/18 [==============================] - 4s 237ms/step - loss: 0.0490 - acc: 0.9778 - val_loss: 1.6974 - val_acc: 0.6340\n",
      "Epoch 36/60\n",
      "18/18 [==============================] - 4s 238ms/step - loss: 0.0228 - acc: 0.9944 - val_loss: 0.5386 - val_acc: 0.8300\n",
      "Epoch 37/60\n",
      "18/18 [==============================] - 4s 238ms/step - loss: 0.0160 - acc: 0.9889 - val_loss: 0.3909 - val_acc: 0.8760\n",
      "Epoch 38/60\n",
      "18/18 [==============================] - 4s 238ms/step - loss: 0.0053 - acc: 1.0000 - val_loss: 0.3762 - val_acc: 0.8780\n",
      "Epoch 39/60\n",
      "18/18 [==============================] - 4s 236ms/step - loss: 0.0159 - acc: 0.9944 - val_loss: 0.2595 - val_acc: 0.9200\n",
      "Epoch 40/60\n",
      "18/18 [==============================] - 4s 238ms/step - loss: 0.0295 - acc: 0.9889 - val_loss: 0.3279 - val_acc: 0.8940\n",
      "Epoch 41/60\n",
      "18/18 [==============================] - 4s 237ms/step - loss: 0.0154 - acc: 0.9944 - val_loss: 0.4406 - val_acc: 0.8560\n",
      "Epoch 42/60\n",
      "18/18 [==============================] - 4s 238ms/step - loss: 0.0100 - acc: 1.0000 - val_loss: 0.3775 - val_acc: 0.8760\n",
      "Epoch 43/60\n",
      "18/18 [==============================] - 4s 240ms/step - loss: 0.0359 - acc: 0.9944 - val_loss: 0.4356 - val_acc: 0.8640\n",
      "Epoch 44/60\n",
      "18/18 [==============================] - 4s 238ms/step - loss: 0.0242 - acc: 0.9889 - val_loss: 0.2957 - val_acc: 0.9000\n",
      "Epoch 45/60\n",
      "18/18 [==============================] - 4s 237ms/step - loss: 0.0065 - acc: 0.9944 - val_loss: 0.3161 - val_acc: 0.8940\n",
      "Epoch 46/60\n",
      "18/18 [==============================] - 4s 235ms/step - loss: 0.0088 - acc: 1.0000 - val_loss: 0.3650 - val_acc: 0.8700\n",
      "Epoch 47/60\n",
      "18/18 [==============================] - 4s 237ms/step - loss: 0.0088 - acc: 0.9944 - val_loss: 0.2410 - val_acc: 0.9200\n",
      "Epoch 48/60\n",
      "18/18 [==============================] - 4s 237ms/step - loss: 0.0132 - acc: 0.9944 - val_loss: 0.1902 - val_acc: 0.9360\n",
      "Epoch 49/60\n",
      "18/18 [==============================] - 4s 238ms/step - loss: 0.0600 - acc: 0.9833 - val_loss: 0.1911 - val_acc: 0.9340\n",
      "Epoch 50/60\n",
      "18/18 [==============================] - 4s 238ms/step - loss: 0.0501 - acc: 0.9833 - val_loss: 0.4882 - val_acc: 0.8160\n",
      "Epoch 51/60\n",
      "18/18 [==============================] - 4s 242ms/step - loss: 0.0200 - acc: 0.9944 - val_loss: 0.6853 - val_acc: 0.7840\n",
      "Epoch 52/60\n",
      "18/18 [==============================] - 4s 240ms/step - loss: 0.0263 - acc: 0.9944 - val_loss: 0.8984 - val_acc: 0.6740\n",
      "Epoch 53/60\n",
      "18/18 [==============================] - 4s 239ms/step - loss: 0.0414 - acc: 0.9833 - val_loss: 0.5991 - val_acc: 0.8140\n",
      "Epoch 54/60\n",
      "18/18 [==============================] - 4s 238ms/step - loss: 0.0195 - acc: 0.9889 - val_loss: 0.7756 - val_acc: 0.7840\n",
      "Epoch 55/60\n",
      "18/18 [==============================] - 4s 238ms/step - loss: 0.0332 - acc: 0.9889 - val_loss: 0.5699 - val_acc: 0.8160\n",
      "Epoch 56/60\n",
      "18/18 [==============================] - 4s 239ms/step - loss: 0.0423 - acc: 0.9778 - val_loss: 0.6316 - val_acc: 0.7860\n",
      "Epoch 57/60\n",
      "18/18 [==============================] - 4s 239ms/step - loss: 0.0068 - acc: 1.0000 - val_loss: 0.5235 - val_acc: 0.8360\n",
      "Epoch 58/60\n",
      "18/18 [==============================] - 4s 239ms/step - loss: 0.0271 - acc: 0.9944 - val_loss: 0.7744 - val_acc: 0.7840\n",
      "Epoch 59/60\n",
      "18/18 [==============================] - 4s 238ms/step - loss: 0.0234 - acc: 0.9944 - val_loss: 0.4430 - val_acc: 0.8780\n",
      "Epoch 60/60\n",
      "18/18 [==============================] - 4s 240ms/step - loss: 0.0020 - acc: 1.0000 - val_loss: 0.3891 - val_acc: 0.8840\n"
     ]
    },
    {
     "data": {
      "text/plain": [
       "<keras.callbacks.History at 0x1c1f0a20e80>"
      ]
     },
     "execution_count": 8,
     "metadata": {},
     "output_type": "execute_result"
    }
   ],
   "source": [
    "model.fit_generator(train_batchs, steps_per_epoch=18, validation_data=valid_batchs, validation_steps=3, epochs=60)"
   ]
  },
  {
   "cell_type": "code",
   "execution_count": 9,
   "metadata": {},
   "outputs": [],
   "source": [
    "test_labels = test_batchs.classes"
   ]
  },
  {
   "cell_type": "code",
   "execution_count": 10,
   "metadata": {},
   "outputs": [],
   "source": [
    "predictions = model.predict_generator(test_batchs, steps=5, verbose=2)"
   ]
  },
  {
   "cell_type": "code",
   "execution_count": 11,
   "metadata": {},
   "outputs": [],
   "source": [
    "from sklearn.metrics import confusion_matrix\n",
    "import itertools"
   ]
  },
  {
   "cell_type": "code",
   "execution_count": 12,
   "metadata": {},
   "outputs": [],
   "source": [
    "cm = confusion_matrix(test_labels, predictions.argmax(axis=1))"
   ]
  },
  {
   "cell_type": "code",
   "execution_count": 13,
   "metadata": {},
   "outputs": [
    {
     "data": {
      "text/plain": [
       "{'0': 0,\n",
       " '1': 1,\n",
       " '2': 2,\n",
       " '3': 3,\n",
       " '4': 4,\n",
       " '5': 5,\n",
       " '6': 6,\n",
       " '7': 7,\n",
       " '8': 8,\n",
       " '9': 9}"
      ]
     },
     "execution_count": 13,
     "metadata": {},
     "output_type": "execute_result"
    }
   ],
   "source": [
    "test_batchs.class_indices"
   ]
  },
  {
   "cell_type": "code",
   "execution_count": 14,
   "metadata": {},
   "outputs": [],
   "source": [
    "def plot_confusion_matrix(cm, classes,\n",
    "                          normalize=False,\n",
    "                          title='Confusion matrix',\n",
    "                          cmap=plt.cm.Blues):\n",
    "    \"\"\"\n",
    "    This function prints and plots the confusion matrix.\n",
    "    Normalization can be applied by setting `normalize=True`.\n",
    "    \"\"\"\n",
    "    if normalize:\n",
    "        cm = cm.astype('float') / cm.sum(axis=1)[:, np.newaxis]\n",
    "        print(\"Normalized confusion matrix\")\n",
    "    else:\n",
    "        print('Confusion matrix, without normalization')\n",
    "\n",
    "    print(cm)\n",
    "\n",
    "    plt.imshow(cm, interpolation='nearest', cmap=cmap)\n",
    "    plt.title(title)\n",
    "    plt.colorbar()\n",
    "    tick_marks = np.arange(len(classes))\n",
    "    plt.xticks(tick_marks, classes, rotation=45)\n",
    "    plt.yticks(tick_marks, classes)\n",
    "\n",
    "    fmt = '.2f' if normalize else 'd'\n",
    "    thresh = cm.max() / 2.\n",
    "    for i, j in itertools.product(range(cm.shape[0]), range(cm.shape[1])):\n",
    "        plt.text(j, i, format(cm[i, j], fmt),\n",
    "                 horizontalalignment=\"center\",\n",
    "                 color=\"white\" if cm[i, j] > thresh else \"black\")\n",
    "\n",
    "    plt.ylabel('True label')\n",
    "    plt.xlabel('Predicted label')\n",
    "    plt.tight_layout()"
   ]
  },
  {
   "cell_type": "code",
   "execution_count": 15,
   "metadata": {},
   "outputs": [
    {
     "name": "stdout",
     "output_type": "stream",
     "text": [
      "Confusion matrix, without normalization\n",
      "[[3 0 0 0 0 1 0 0 1 0]\n",
      " [0 5 0 0 0 0 0 0 0 0]\n",
      " [0 0 5 0 0 0 0 0 0 0]\n",
      " [0 0 5 0 0 0 0 0 0 0]\n",
      " [0 0 0 0 5 0 0 0 0 0]\n",
      " [0 0 0 0 0 5 0 0 0 0]\n",
      " [0 0 2 0 0 0 3 0 0 0]\n",
      " [0 0 2 0 0 0 0 3 0 0]\n",
      " [0 0 0 0 0 0 0 0 4 1]\n",
      " [0 0 0 0 0 0 0 0 0 5]]\n"
     ]
    },
    {
     "data": {
      "image/png": "[encoded data removed]",
      "text/plain": [
       "<Figure size 432x288 with 2 Axes>"
      ]
     },
     "metadata": {
      "needs_background": "light"
     },
     "output_type": "display_data"
    }
   ],
   "source": [
    "cm_class_labels = ['0', '1', '2', '3', '4', '5', '6', '7', '8','9']\n",
    "plot_confusion_matrix(cm, cm_class_labels, title='Confusion Matrix')"
   ]
  }
 ],
 "metadata": {
  "kernelspec": {
   "display_name": "Python 3",
   "language": "python",
   "name": "python3"
  },
  "language_info": {
   "codemirror_mode": {
    "name": "ipython",
    "version": 3
   },
   "file_extension": ".py",
   "mimetype": "text/x-python",
   "name": "python",
   "nbconvert_exporter": "python",
   "pygments_lexer": "ipython3",
   "version": "3.6.6"
  }
 },
 "nbformat": 4,
 "nbformat_minor": 2
}
