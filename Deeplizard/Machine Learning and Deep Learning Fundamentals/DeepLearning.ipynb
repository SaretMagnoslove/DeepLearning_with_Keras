{
 "cells": [
  {
   "cell_type": "markdown",
   "metadata": {},
   "source": [
    "# Basic Imports for Sequential model with Keras"
   ]
  },
  {
   "cell_type": "code",
   "execution_count": 1,
   "metadata": {},
   "outputs": [
    {
     "name": "stderr",
     "output_type": "stream",
     "text": [
      "E:\\Anaconda3\\lib\\site-packages\\h5py\\__init__.py:72: UserWarning: h5py is running against HDF5 1.10.2 when it was built against 1.10.3, this may cause problems\n",
      "  '{0}.{1}.{2}'.format(*version.hdf5_built_version_tuple)\n",
      "Using TensorFlow backend.\n"
     ]
    }
   ],
   "source": [
    "from keras.models import Sequential\n",
    "from keras.layers import Dense, Activation"
   ]
  },
  {
   "cell_type": "markdown",
   "metadata": {},
   "source": [
    "## Basic Model 1"
   ]
  },
  {
   "cell_type": "code",
   "execution_count": 2,
   "metadata": {},
   "outputs": [],
   "source": [
    "model = Sequential ([\n",
    "    Dense(32, input_shape=(10,), activation='relu'),\n",
    "    Dense(2, activation='softmax')\n",
    "])"
   ]
  },
  {
   "cell_type": "code",
   "execution_count": 3,
   "metadata": {},
   "outputs": [
    {
     "name": "stdout",
     "output_type": "stream",
     "text": [
      "_________________________________________________________________\n",
      "Layer (type)                 Output Shape              Param #   \n",
      "=================================================================\n",
      "dense_1 (Dense)              (None, 32)                352       \n",
      "_________________________________________________________________\n",
      "dense_2 (Dense)              (None, 2)                 66        \n",
      "=================================================================\n",
      "Total params: 418\n",
      "Trainable params: 418\n",
      "Non-trainable params: 0\n",
      "_________________________________________________________________\n"
     ]
    }
   ],
   "source": [
    "model.summary()"
   ]
  },
  {
   "cell_type": "markdown",
   "metadata": {},
   "source": [
    "## Basic Model 2"
   ]
  },
  {
   "cell_type": "code",
   "execution_count": 4,
   "metadata": {},
   "outputs": [],
   "source": [
    "model = Sequential ([\n",
    "    Dense(5, input_shape=(3,), activation='relu'),\n",
    "    Dense(2, activation='softmax')\n",
    "])"
   ]
  },
  {
   "cell_type": "code",
   "execution_count": 5,
   "metadata": {},
   "outputs": [
    {
     "name": "stdout",
     "output_type": "stream",
     "text": [
      "_________________________________________________________________\n",
      "Layer (type)                 Output Shape              Param #   \n",
      "=================================================================\n",
      "dense_3 (Dense)              (None, 5)                 20        \n",
      "_________________________________________________________________\n",
      "dense_4 (Dense)              (None, 2)                 12        \n",
      "=================================================================\n",
      "Total params: 32\n",
      "Trainable params: 32\n",
      "Non-trainable params: 0\n",
      "_________________________________________________________________\n"
     ]
    }
   ],
   "source": [
    "model.summary()"
   ]
  },
  {
   "cell_type": "markdown",
   "metadata": {},
   "source": [
    "# Adding Layers"
   ]
  },
  {
   "cell_type": "code",
   "execution_count": 6,
   "metadata": {},
   "outputs": [
    {
     "name": "stdout",
     "output_type": "stream",
     "text": [
      "_________________________________________________________________\n",
      "Layer (type)                 Output Shape              Param #   \n",
      "=================================================================\n",
      "dense_5 (Dense)              (None, 5)                 20        \n",
      "_________________________________________________________________\n",
      "activation_1 (Activation)    (None, 5)                 0         \n",
      "=================================================================\n",
      "Total params: 20\n",
      "Trainable params: 20\n",
      "Non-trainable params: 0\n",
      "_________________________________________________________________\n"
     ]
    }
   ],
   "source": [
    "model = Sequential()\n",
    "model.add(Dense(5, input_shape=(3,)))\n",
    "model.add(Activation('relu'))\n",
    "\n",
    "model.summary()"
   ]
  },
  {
   "cell_type": "markdown",
   "metadata": {},
   "source": [
    "# Preprocessing Data"
   ]
  },
  {
   "cell_type": "code",
   "execution_count": 7,
   "metadata": {},
   "outputs": [],
   "source": [
    "import numpy as np\n",
    "from random import randint\n",
    "from sklearn.preprocessing import MinMaxScaler"
   ]
  },
  {
   "cell_type": "code",
   "execution_count": 8,
   "metadata": {},
   "outputs": [],
   "source": [
    "train_labels = []\n",
    "train_samples = []"
   ]
  },
  {
   "cell_type": "code",
   "execution_count": 9,
   "metadata": {},
   "outputs": [],
   "source": [
    "for i in range(10000):\n",
    "    random_younger = randint(13, 64)\n",
    "    train_samples.append(random_younger)\n",
    "    train_labels.append(0)\n",
    "    \n",
    "    random_older = randint(65, 100)\n",
    "    train_samples.append(random_older)\n",
    "    train_labels.append(1)\n",
    "    \n",
    "for i in range(500):\n",
    "    random_younger = randint(13, 64)\n",
    "    train_samples.append(random_younger)\n",
    "    train_labels.append(1)\n",
    "    \n",
    "    random_older = randint(65, 100)\n",
    "    train_samples.append(random_older)\n",
    "    train_labels.append(0)"
   ]
  },
  {
   "cell_type": "code",
   "execution_count": 10,
   "metadata": {},
   "outputs": [
    {
     "data": {
      "text/plain": [
       "[63, 91, 39, 90, 36]"
      ]
     },
     "execution_count": 10,
     "metadata": {},
     "output_type": "execute_result"
    }
   ],
   "source": [
    "train_samples[:5]"
   ]
  },
  {
   "cell_type": "code",
   "execution_count": 11,
   "metadata": {},
   "outputs": [],
   "source": [
    "train_labels = np.array(train_labels)\n",
    "train_samples = np.array(train_samples)"
   ]
  },
  {
   "cell_type": "code",
   "execution_count": 12,
   "metadata": {},
   "outputs": [
    {
     "name": "stderr",
     "output_type": "stream",
     "text": [
      "E:\\Anaconda3\\lib\\site-packages\\sklearn\\utils\\validation.py:590: DataConversionWarning: Data with input dtype int32 was converted to float64 by MinMaxScaler.\n",
      "  warnings.warn(msg, DataConversionWarning)\n"
     ]
    }
   ],
   "source": [
    "scaler = MinMaxScaler(feature_range=(0,1))\n",
    "scaled_train_samples = scaler.fit_transform((train_samples).reshape(-1,1))"
   ]
  },
  {
   "cell_type": "code",
   "execution_count": 13,
   "metadata": {},
   "outputs": [
    {
     "data": {
      "text/plain": [
       "array([[0.57471264],\n",
       "       [0.89655172],\n",
       "       [0.29885057],\n",
       "       [0.88505747],\n",
       "       [0.26436782]])"
      ]
     },
     "execution_count": 13,
     "metadata": {},
     "output_type": "execute_result"
    }
   ],
   "source": [
    "scaled_train_samples[:5]"
   ]
  },
  {
   "cell_type": "code",
   "execution_count": 14,
   "metadata": {},
   "outputs": [
    {
     "data": {
      "text/plain": [
       "(21000, 1)"
      ]
     },
     "execution_count": 14,
     "metadata": {},
     "output_type": "execute_result"
    }
   ],
   "source": [
    "scaled_train_samples.shape"
   ]
  },
  {
   "cell_type": "markdown",
   "metadata": {},
   "source": [
    "# Learning"
   ]
  },
  {
   "cell_type": "code",
   "execution_count": 16,
   "metadata": {},
   "outputs": [],
   "source": [
    "from keras.optimizers import Adam\n",
    "from keras.metrics import categorical_crossentropy"
   ]
  },
  {
   "cell_type": "code",
   "execution_count": 17,
   "metadata": {},
   "outputs": [],
   "source": [
    "model = Sequential ([\n",
    "    Dense(16, input_shape=(1,), activation='relu'),\n",
    "    Dense(32, activation='relu'),\n",
    "    Dense(2, activation='softmax')\n",
    "])"
   ]
  },
  {
   "cell_type": "code",
   "execution_count": 18,
   "metadata": {},
   "outputs": [],
   "source": [
    "model.compile(Adam(lr=1e-3), loss='sparse_categorical_crossentropy', metrics=['accuracy'])"
   ]
  },
  {
   "cell_type": "code",
   "execution_count": 19,
   "metadata": {},
   "outputs": [
    {
     "data": {
      "text/plain": [
       "'sparse_categorical_crossentropy'"
      ]
     },
     "execution_count": 19,
     "metadata": {},
     "output_type": "execute_result"
    }
   ],
   "source": [
    "model.loss"
   ]
  },
  {
   "cell_type": "code",
   "execution_count": 20,
   "metadata": {},
   "outputs": [
    {
     "name": "stdout",
     "output_type": "stream",
     "text": [
      "Train on 16800 samples, validate on 4200 samples\n",
      "Epoch 1/20\n",
      " - 21s - loss: 0.1378 - acc: 0.9594 - val_loss: 1.7776 - val_acc: 0.7462\n",
      "Epoch 2/20\n",
      " - 5s - loss: 0.0321 - acc: 0.9935 - val_loss: 2.4546 - val_acc: 0.7538\n",
      "Epoch 3/20\n",
      " - 6s - loss: 0.0218 - acc: 0.9961 - val_loss: 2.8265 - val_acc: 0.7619\n",
      "Epoch 4/20\n",
      " - 5s - loss: 0.0177 - acc: 0.9962 - val_loss: 3.0889 - val_acc: 0.7619\n",
      "Epoch 5/20\n",
      " - 5s - loss: 0.0152 - acc: 0.9953 - val_loss: 3.2812 - val_acc: 0.7538\n",
      "Epoch 6/20\n",
      " - 6s - loss: 0.0128 - acc: 0.9966 - val_loss: 3.4195 - val_acc: 0.7538\n",
      "Epoch 7/20\n",
      " - 6s - loss: 0.0121 - acc: 0.9961 - val_loss: 3.4660 - val_acc: 0.7619\n",
      "Epoch 8/20\n",
      " - 6s - loss: 0.0100 - acc: 0.9979 - val_loss: 3.5283 - val_acc: 0.7619\n",
      "Epoch 9/20\n",
      " - 6s - loss: 0.0099 - acc: 0.9971 - val_loss: 3.5754 - val_acc: 0.7538\n",
      "Epoch 10/20\n",
      " - 6s - loss: 0.0093 - acc: 0.9976 - val_loss: 3.6099 - val_acc: 0.7538\n",
      "Epoch 11/20\n",
      " - 6s - loss: 0.0087 - acc: 0.9976 - val_loss: 3.6112 - val_acc: 0.7619\n",
      "Epoch 12/20\n",
      " - 6s - loss: 0.0091 - acc: 0.9970 - val_loss: 3.6196 - val_acc: 0.7619\n",
      "Epoch 13/20\n",
      " - 6s - loss: 0.0073 - acc: 0.9987 - val_loss: 3.6303 - val_acc: 0.7619\n",
      "Epoch 14/20\n",
      " - 6s - loss: 0.0084 - acc: 0.9975 - val_loss: 3.6486 - val_acc: 0.7619\n",
      "Epoch 15/20\n",
      " - 6s - loss: 0.0073 - acc: 0.9978 - val_loss: 3.6781 - val_acc: 0.7538\n",
      "Epoch 16/20\n",
      " - 6s - loss: 0.0077 - acc: 0.9975 - val_loss: 3.6678 - val_acc: 0.7619\n",
      "Epoch 17/20\n",
      " - 6s - loss: 0.0067 - acc: 0.9980 - val_loss: 3.6662 - val_acc: 0.7619\n",
      "Epoch 18/20\n",
      " - 6s - loss: 0.0063 - acc: 0.9982 - val_loss: 3.6795 - val_acc: 0.7619\n",
      "Epoch 19/20\n",
      " - 6s - loss: 0.0067 - acc: 0.9979 - val_loss: 3.6990 - val_acc: 0.7619\n",
      "Epoch 20/20\n",
      " - 6s - loss: 0.0059 - acc: 0.9983 - val_loss: 3.6932 - val_acc: 0.7619\n"
     ]
    },
    {
     "data": {
      "text/plain": [
       "<keras.callbacks.History at 0x2044d9278d0>"
      ]
     },
     "execution_count": 20,
     "metadata": {},
     "output_type": "execute_result"
    }
   ],
   "source": [
    "model.fit(scaled_train_samples, train_labels, validation_split=0.2, batch_size=10, epochs=20, shuffle=True, verbose=2)"
   ]
  },
  {
   "cell_type": "markdown",
   "metadata": {},
   "source": [
    "# regularization"
   ]
  },
  {
   "cell_type": "code",
   "execution_count": 21,
   "metadata": {},
   "outputs": [],
   "source": [
    "import keras\n",
    "from keras.models import Sequential\n",
    "from keras.layers import Dense, Activation\n",
    "from keras import regularizers"
   ]
  },
  {
   "cell_type": "code",
   "execution_count": 23,
   "metadata": {},
   "outputs": [],
   "source": [
    "model = Sequential ([\n",
    "    Dense(16, input_shape=(1,), activation='relu'),\n",
    "    Dense(32, activation='relu', kernel_regularizer=regularizers.l2(0.01)),\n",
    "    Dense(2, activation='softmax')\n",
    "])"
   ]
  },
  {
   "cell_type": "markdown",
   "metadata": {},
   "source": [
    "# Learning Rate"
   ]
  },
  {
   "cell_type": "code",
   "execution_count": 24,
   "metadata": {},
   "outputs": [
    {
     "name": "stdout",
     "output_type": "stream",
     "text": [
      "Train on 16800 samples, validate on 4200 samples\n",
      "Epoch 1/20\n",
      " - 9s - loss: 0.2281 - acc: 0.9493 - val_loss: 1.2741 - val_acc: 0.7462\n",
      "Epoch 2/20\n",
      " - 6s - loss: 0.0882 - acc: 0.9899 - val_loss: 1.6272 - val_acc: 0.7538\n",
      "Epoch 3/20\n",
      " - 6s - loss: 0.0683 - acc: 0.9921 - val_loss: 1.9446 - val_acc: 0.7538\n",
      "Epoch 4/20\n",
      " - 6s - loss: 0.0582 - acc: 0.9917 - val_loss: 2.2113 - val_acc: 0.7538\n",
      "Epoch 5/20\n",
      " - 6s - loss: 0.0516 - acc: 0.9927 - val_loss: 2.4421 - val_acc: 0.7619\n",
      "Epoch 6/20\n",
      " - 6s - loss: 0.0470 - acc: 0.9929 - val_loss: 2.6759 - val_acc: 0.7538\n",
      "Epoch 7/20\n",
      " - 6s - loss: 0.0430 - acc: 0.9934 - val_loss: 2.7295 - val_acc: 0.7498\n",
      "Epoch 8/20\n",
      " - 6s - loss: 0.0411 - acc: 0.9923 - val_loss: 2.8286 - val_acc: 0.7619\n",
      "Epoch 9/20\n",
      " - 6s - loss: 0.0391 - acc: 0.9934 - val_loss: 2.9575 - val_acc: 0.7538\n",
      "Epoch 10/20\n",
      " - 6s - loss: 0.0368 - acc: 0.9943 - val_loss: 2.9715 - val_acc: 0.7619\n",
      "Epoch 11/20\n",
      " - 6s - loss: 0.0356 - acc: 0.9936 - val_loss: 2.9935 - val_acc: 0.7619\n",
      "Epoch 12/20\n",
      " - 6s - loss: 0.0337 - acc: 0.9939 - val_loss: 3.0547 - val_acc: 0.7619\n",
      "Epoch 13/20\n",
      " - 6s - loss: 0.0334 - acc: 0.9933 - val_loss: 3.2182 - val_acc: 0.7410\n",
      "Epoch 14/20\n",
      " - 6s - loss: 0.0324 - acc: 0.9940 - val_loss: 3.1177 - val_acc: 0.7619\n",
      "Epoch 15/20\n",
      " - 6s - loss: 0.0311 - acc: 0.9945 - val_loss: 3.1109 - val_acc: 0.7498\n",
      "Epoch 16/20\n",
      " - 6s - loss: 0.0305 - acc: 0.9939 - val_loss: 3.1738 - val_acc: 0.7538\n",
      "Epoch 17/20\n",
      " - 6s - loss: 0.0309 - acc: 0.9932 - val_loss: 3.1763 - val_acc: 0.7619\n",
      "Epoch 18/20\n",
      " - 6s - loss: 0.0300 - acc: 0.9933 - val_loss: 3.1523 - val_acc: 0.7498\n",
      "Epoch 19/20\n",
      " - 6s - loss: 0.0279 - acc: 0.9946 - val_loss: 3.2372 - val_acc: 0.7538\n",
      "Epoch 20/20\n",
      " - 6s - loss: 0.0291 - acc: 0.9935 - val_loss: 3.2718 - val_acc: 0.7538\n"
     ]
    },
    {
     "data": {
      "text/plain": [
       "<keras.callbacks.History at 0x2045480ea90>"
      ]
     },
     "execution_count": 24,
     "metadata": {},
     "output_type": "execute_result"
    }
   ],
   "source": [
    "model.compile(Adam(lr=1e-3), loss='sparse_categorical_crossentropy', metrics=['accuracy'])\n",
    "model.fit(scaled_train_samples, train_labels, validation_split=0.2, batch_size=10, epochs=20, shuffle=True, verbose=2)"
   ]
  },
  {
   "cell_type": "code",
   "execution_count": 26,
   "metadata": {},
   "outputs": [
    {
     "data": {
      "text/plain": [
       "0.01"
      ]
     },
     "execution_count": 26,
     "metadata": {},
     "output_type": "execute_result"
    }
   ],
   "source": [
    "model.optimizer.lr = 0.01\n",
    "model.optimizer.lr"
   ]
  },
  {
   "cell_type": "code",
   "execution_count": 27,
   "metadata": {},
   "outputs": [
    {
     "name": "stdout",
     "output_type": "stream",
     "text": [
      "Train on 16800 samples, validate on 4200 samples\n",
      "Epoch 1/20\n",
      " - 6s - loss: 0.0276 - acc: 0.9945 - val_loss: 3.2302 - val_acc: 0.7619\n",
      "Epoch 2/20\n",
      " - 6s - loss: 0.0275 - acc: 0.9943 - val_loss: 3.2161 - val_acc: 0.7498\n",
      "Epoch 3/20\n",
      " - 6s - loss: 0.0267 - acc: 0.9940 - val_loss: 3.2757 - val_acc: 0.7538\n",
      "Epoch 4/20\n",
      " - 6s - loss: 0.0270 - acc: 0.9940 - val_loss: 3.2565 - val_acc: 0.7619\n",
      "Epoch 5/20\n",
      " - 6s - loss: 0.0252 - acc: 0.9948 - val_loss: 3.3705 - val_acc: 0.7462\n",
      "Epoch 6/20\n",
      " - 6s - loss: 0.0259 - acc: 0.9940 - val_loss: 3.3130 - val_acc: 0.7538\n",
      "Epoch 7/20\n",
      " - 6s - loss: 0.0260 - acc: 0.9935 - val_loss: 3.3492 - val_acc: 0.7538\n",
      "Epoch 8/20\n",
      " - 6s - loss: 0.0250 - acc: 0.9948 - val_loss: 3.2811 - val_acc: 0.7619\n",
      "Epoch 9/20\n",
      " - 6s - loss: 0.0248 - acc: 0.9940 - val_loss: 3.3841 - val_acc: 0.7462\n",
      "Epoch 10/20\n",
      " - 6s - loss: 0.0251 - acc: 0.9940 - val_loss: 3.2908 - val_acc: 0.7619\n",
      "Epoch 11/20\n",
      " - 6s - loss: 0.0245 - acc: 0.9943 - val_loss: 3.3100 - val_acc: 0.7619\n",
      "Epoch 12/20\n",
      " - 6s - loss: 0.0232 - acc: 0.9948 - val_loss: 3.3000 - val_acc: 0.7619\n",
      "Epoch 13/20\n",
      " - 6s - loss: 0.0230 - acc: 0.9951 - val_loss: 3.3521 - val_acc: 0.7538\n",
      "Epoch 14/20\n",
      " - 6s - loss: 0.0237 - acc: 0.9938 - val_loss: 3.3263 - val_acc: 0.7619\n",
      "Epoch 15/20\n",
      " - 6s - loss: 0.0224 - acc: 0.9954 - val_loss: 3.3038 - val_acc: 0.7498\n",
      "Epoch 16/20\n",
      " - 6s - loss: 0.0225 - acc: 0.9951 - val_loss: 3.3429 - val_acc: 0.7619\n",
      "Epoch 17/20\n",
      " - 6s - loss: 0.0221 - acc: 0.9948 - val_loss: 3.3270 - val_acc: 0.7619\n",
      "Epoch 18/20\n",
      " - 6s - loss: 0.0236 - acc: 0.9940 - val_loss: 3.3819 - val_acc: 0.7538\n",
      "Epoch 19/20\n",
      " - 6s - loss: 0.0223 - acc: 0.9952 - val_loss: 3.3468 - val_acc: 0.7619\n",
      "Epoch 20/20\n",
      " - 6s - loss: 0.0222 - acc: 0.9945 - val_loss: 3.3219 - val_acc: 0.7498\n"
     ]
    },
    {
     "data": {
      "text/plain": [
       "<keras.callbacks.History at 0x2044d925a58>"
      ]
     },
     "execution_count": 27,
     "metadata": {},
     "output_type": "execute_result"
    }
   ],
   "source": [
    "model.fit(scaled_train_samples, train_labels, validation_split=0.2, batch_size=10, epochs=20, shuffle=True, verbose=2)"
   ]
  },
  {
   "cell_type": "code",
   "execution_count": 28,
   "metadata": {},
   "outputs": [],
   "source": [
    "model.optimizer.lr = 1e-3"
   ]
  },
  {
   "cell_type": "markdown",
   "metadata": {},
   "source": [
    "# Batch Size"
   ]
  },
  {
   "cell_type": "code",
   "execution_count": 29,
   "metadata": {},
   "outputs": [
    {
     "name": "stdout",
     "output_type": "stream",
     "text": [
      "Train on 16800 samples, validate on 4200 samples\n",
      "Epoch 1/20\n",
      " - 3s - loss: 0.0181 - acc: 0.9992 - val_loss: 3.3650 - val_acc: 0.7619\n",
      "Epoch 2/20\n",
      " - 1s - loss: 0.0179 - acc: 1.0000 - val_loss: 3.3633 - val_acc: 0.7619\n",
      "Epoch 3/20\n",
      " - 1s - loss: 0.0179 - acc: 0.9996 - val_loss: 3.3487 - val_acc: 0.7619\n",
      "Epoch 4/20\n",
      " - 1s - loss: 0.0179 - acc: 1.0000 - val_loss: 3.3526 - val_acc: 0.7619\n",
      "Epoch 5/20\n",
      " - 1s - loss: 0.0181 - acc: 0.9993 - val_loss: 3.3618 - val_acc: 0.7619\n",
      "Epoch 6/20\n",
      " - 1s - loss: 0.0179 - acc: 0.9997 - val_loss: 3.3624 - val_acc: 0.7619\n",
      "Epoch 7/20\n",
      " - 1s - loss: 0.0179 - acc: 0.9996 - val_loss: 3.3562 - val_acc: 0.7619\n",
      "Epoch 8/20\n",
      " - 1s - loss: 0.0177 - acc: 0.9997 - val_loss: 3.3359 - val_acc: 0.7619\n",
      "Epoch 9/20\n",
      " - 1s - loss: 0.0178 - acc: 0.9997 - val_loss: 3.3518 - val_acc: 0.7619\n",
      "Epoch 10/20\n",
      " - 1s - loss: 0.0178 - acc: 1.0000 - val_loss: 3.3663 - val_acc: 0.7538\n",
      "Epoch 11/20\n",
      " - 1s - loss: 0.0177 - acc: 0.9990 - val_loss: 3.3603 - val_acc: 0.7619\n",
      "Epoch 12/20\n",
      " - 1s - loss: 0.0178 - acc: 0.9993 - val_loss: 3.3419 - val_acc: 0.7619\n",
      "Epoch 13/20\n",
      " - 1s - loss: 0.0177 - acc: 0.9990 - val_loss: 3.3614 - val_acc: 0.7619\n",
      "Epoch 14/20\n",
      " - 1s - loss: 0.0177 - acc: 0.9992 - val_loss: 3.3571 - val_acc: 0.7619\n",
      "Epoch 15/20\n",
      " - 1s - loss: 0.0179 - acc: 0.9985 - val_loss: 3.3265 - val_acc: 0.7619\n",
      "Epoch 16/20\n",
      " - 1s - loss: 0.0179 - acc: 0.9986 - val_loss: 3.3636 - val_acc: 0.7619\n",
      "Epoch 17/20\n",
      " - 1s - loss: 0.0174 - acc: 0.9993 - val_loss: 3.3613 - val_acc: 0.7619\n",
      "Epoch 18/20\n",
      " - 1s - loss: 0.0176 - acc: 0.9988 - val_loss: 3.3712 - val_acc: 0.7619\n",
      "Epoch 19/20\n",
      " - 1s - loss: 0.0172 - acc: 0.9985 - val_loss: 3.3432 - val_acc: 0.7619\n",
      "Epoch 20/20\n",
      " - 1s - loss: 0.0186 - acc: 0.9977 - val_loss: 3.3594 - val_acc: 0.7619\n"
     ]
    },
    {
     "data": {
      "text/plain": [
       "<keras.callbacks.History at 0x204547fee10>"
      ]
     },
     "execution_count": 29,
     "metadata": {},
     "output_type": "execute_result"
    }
   ],
   "source": [
    "model.fit(scaled_train_samples, train_labels, validation_split=0.2, batch_size=100, epochs=20, shuffle=True, verbose=2)"
   ]
  }
 ],
 "metadata": {
  "kernelspec": {
   "display_name": "Python 3",
   "language": "python",
   "name": "python3"
  },
  "language_info": {
   "codemirror_mode": {
    "name": "ipython",
    "version": 3
   },
   "file_extension": ".py",
   "mimetype": "text/x-python",
   "name": "python",
   "nbconvert_exporter": "python",
   "pygments_lexer": "ipython3",
   "version": "3.6.6"
  }
 },
 "nbformat": 4,
 "nbformat_minor": 2
}
