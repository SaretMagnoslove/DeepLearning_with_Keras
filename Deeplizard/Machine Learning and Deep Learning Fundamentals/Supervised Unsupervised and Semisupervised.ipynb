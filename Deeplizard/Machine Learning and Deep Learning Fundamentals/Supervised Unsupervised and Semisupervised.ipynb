{
 "cells": [
  {
   "cell_type": "markdown",
   "metadata": {},
   "source": [
    "# Suprvised Learning"
   ]
  },
  {
   "cell_type": "code",
   "execution_count": 1,
   "metadata": {},
   "outputs": [
    {
     "name": "stderr",
     "output_type": "stream",
     "text": [
      "E:\\Anaconda3\\lib\\site-packages\\h5py\\__init__.py:72: UserWarning: h5py is running against HDF5 1.10.2 when it was built against 1.10.3, this may cause problems\n",
      "  '{0}.{1}.{2}'.format(*version.hdf5_built_version_tuple)\n",
      "Using TensorFlow backend.\n"
     ]
    }
   ],
   "source": [
    "from keras.models import Sequential\n",
    "from keras.layers import Activation, Dense\n",
    "from keras.optimizers import Adam"
   ]
  },
  {
   "cell_type": "code",
   "execution_count": 2,
   "metadata": {},
   "outputs": [],
   "source": [
    "model = Sequential([\n",
    "    Dense(16, input_shape=(2,), activation='relu'),\n",
    "    Dense(32, activation='relu'),\n",
    "    Dense(2, activation='sigmoid')\n",
    "])"
   ]
  },
  {
   "cell_type": "code",
   "execution_count": 3,
   "metadata": {},
   "outputs": [],
   "source": [
    "model.compile(optimizer=Adam(lr=1e-3), loss='sparse_categorical_crossentropy', metrics=['accuracy'])"
   ]
  },
  {
   "cell_type": "code",
   "execution_count": 4,
   "metadata": {},
   "outputs": [],
   "source": [
    "# weight, hight\n",
    "train_samples = [[[50,175],[60,154],[150,176],[60,140],[80,180],[90,190]]]"
   ]
  },
  {
   "cell_type": "code",
   "execution_count": 5,
   "metadata": {},
   "outputs": [],
   "source": [
    "# 0 male 1 female\n",
    "train_labels = [1,1,0,1,0,0]"
   ]
  },
  {
   "cell_type": "code",
   "execution_count": 6,
   "metadata": {},
   "outputs": [
    {
     "name": "stdout",
     "output_type": "stream",
     "text": [
      "Epoch 1/10\n",
      "6/6 [==============================] - 3s 436ms/step - loss: 0.6931 - acc: 0.3333\n",
      "Epoch 2/10\n",
      "6/6 [==============================] - 0s 2ms/step - loss: 0.6931 - acc: 0.3333\n",
      "Epoch 3/10\n",
      "6/6 [==============================] - 0s 2ms/step - loss: 0.6931 - acc: 0.3333\n",
      "Epoch 4/10\n",
      "6/6 [==============================] - 0s 2ms/step - loss: 0.6931 - acc: 0.3333\n",
      "Epoch 5/10\n",
      "6/6 [==============================] - 0s 2ms/step - loss: 0.6931 - acc: 0.3333\n",
      "Epoch 6/10\n",
      "6/6 [==============================] - 0s 2ms/step - loss: 0.6931 - acc: 0.3333\n",
      "Epoch 7/10\n",
      "6/6 [==============================] - 0s 2ms/step - loss: 0.6931 - acc: 0.3333\n",
      "Epoch 8/10\n",
      "6/6 [==============================] - 0s 1ms/step - loss: 0.6931 - acc: 0.3333\n",
      "Epoch 9/10\n",
      "6/6 [==============================] - 0s 2ms/step - loss: 0.6931 - acc: 0.3333\n",
      "Epoch 10/10\n",
      "6/6 [==============================] - 0s 2ms/step - loss: 0.6931 - acc: 0.3333\n"
     ]
    },
    {
     "data": {
      "text/plain": [
       "<keras.callbacks.History at 0x1763b8b9780>"
      ]
     },
     "execution_count": 6,
     "metadata": {},
     "output_type": "execute_result"
    }
   ],
   "source": [
    "model.fit(x=train_samples, y=train_labels, batch_size=3, epochs=10, shuffle=True)"
   ]
  },
  {
   "cell_type": "code",
   "execution_count": null,
   "metadata": {},
   "outputs": [],
   "source": []
  },
  {
   "cell_type": "code",
   "execution_count": null,
   "metadata": {},
   "outputs": [],
   "source": []
  }
 ],
 "metadata": {
  "kernelspec": {
   "display_name": "Python 3",
   "language": "python",
   "name": "python3"
  },
  "language_info": {
   "codemirror_mode": {
    "name": "ipython",
    "version": 3
   },
   "file_extension": ".py",
   "mimetype": "text/x-python",
   "name": "python",
   "nbconvert_exporter": "python",
   "pygments_lexer": "ipython3",
   "version": "3.6.6"
  }
 },
 "nbformat": 4,
 "nbformat_minor": 2
}
