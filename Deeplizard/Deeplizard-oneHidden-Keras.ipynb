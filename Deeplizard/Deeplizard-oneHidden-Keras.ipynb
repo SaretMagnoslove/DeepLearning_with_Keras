{
 "cells": [
  {
   "cell_type": "markdown",
   "metadata": {},
   "source": [
    "# Preprocessing the Data"
   ]
  },
  {
   "cell_type": "code",
   "execution_count": 1,
   "metadata": {},
   "outputs": [],
   "source": [
    "import numpy as np\n",
    "from random import randint\n",
    "from sklearn.preprocessing import MinMaxScaler"
   ]
  },
  {
   "cell_type": "code",
   "execution_count": 2,
   "metadata": {},
   "outputs": [],
   "source": [
    "train_labels = []\n",
    "train_samples = []"
   ]
  },
  {
   "cell_type": "markdown",
   "metadata": {},
   "source": [
    "Gengerating the Data"
   ]
  },
  {
   "cell_type": "code",
   "execution_count": 3,
   "metadata": {},
   "outputs": [],
   "source": [
    "for i in range(5000):\n",
    "    random_younger = randint(13, 64)\n",
    "    train_samples.append(random_younger)\n",
    "    train_labels.append(1)\n",
    "    \n",
    "    random_older = randint(65, 100)\n",
    "    train_samples.append(random_older)\n",
    "    train_labels.append(0) \n",
    "    \n",
    "for i in range(100000):\n",
    "    random_younger = randint(13, 64)\n",
    "    train_samples.append(random_younger)\n",
    "    train_labels.append(0)\n",
    "    \n",
    "    random_older = randint(65, 100)\n",
    "    train_samples.append(random_older)\n",
    "    train_labels.append(1)   "
   ]
  },
  {
   "cell_type": "code",
   "execution_count": 4,
   "metadata": {},
   "outputs": [
    {
     "name": "stdout",
     "output_type": "stream",
     "text": [
      "64\n",
      "71\n",
      "64\n",
      "95\n",
      "35\n",
      "72\n",
      "15\n",
      "68\n",
      "19\n",
      "84\n"
     ]
    },
    {
     "data": {
      "text/plain": [
       "[None, None, None, None, None, None, None, None, None, None]"
      ]
     },
     "execution_count": 4,
     "metadata": {},
     "output_type": "execute_result"
    }
   ],
   "source": [
    "# print a sample from raw samples\n",
    "[print(i) for i in train_samples[:10]]"
   ]
  },
  {
   "cell_type": "code",
   "execution_count": 5,
   "metadata": {},
   "outputs": [
    {
     "name": "stdout",
     "output_type": "stream",
     "text": [
      "1\n",
      "0\n",
      "1\n",
      "0\n",
      "1\n",
      "0\n",
      "1\n",
      "0\n",
      "1\n",
      "0\n"
     ]
    },
    {
     "data": {
      "text/plain": [
       "[None, None, None, None, None, None, None, None, None, None]"
      ]
     },
     "execution_count": 5,
     "metadata": {},
     "output_type": "execute_result"
    }
   ],
   "source": [
    "# print a sample from raw labels\n",
    "[print(i) for i in train_labels[:10]]"
   ]
  },
  {
   "cell_type": "code",
   "execution_count": 6,
   "metadata": {},
   "outputs": [],
   "source": [
    "# converting to numpy array\n",
    "train_labels = np.array(train_labels)\n",
    "train_samples = np.array(train_samples)"
   ]
  },
  {
   "cell_type": "code",
   "execution_count": 7,
   "metadata": {},
   "outputs": [
    {
     "name": "stderr",
     "output_type": "stream",
     "text": [
      "E:\\Anaconda3\\lib\\site-packages\\sklearn\\utils\\validation.py:590: DataConversionWarning: Data with input dtype int32 was converted to float64 by MinMaxScaler.\n",
      "  warnings.warn(msg, DataConversionWarning)\n"
     ]
    }
   ],
   "source": [
    "# scaling the data\n",
    "scaler = MinMaxScaler(feature_range=(0,1))\n",
    "scaled_train_samples = scaler.fit_transform(train_samples.reshape(-1,1))"
   ]
  },
  {
   "cell_type": "code",
   "execution_count": 8,
   "metadata": {},
   "outputs": [
    {
     "name": "stdout",
     "output_type": "stream",
     "text": [
      "[0.5862069]\n",
      "[0.66666667]\n",
      "[0.5862069]\n",
      "[0.94252874]\n",
      "[0.25287356]\n",
      "[0.67816092]\n",
      "[0.02298851]\n",
      "[0.63218391]\n",
      "[0.06896552]\n",
      "[0.81609195]\n"
     ]
    },
    {
     "data": {
      "text/plain": [
       "[None, None, None, None, None, None, None, None, None, None]"
      ]
     },
     "execution_count": 8,
     "metadata": {},
     "output_type": "execute_result"
    }
   ],
   "source": [
    "# print a sample from scaled samples\n",
    "[print(i) for i in scaled_train_samples[:10]]"
   ]
  },
  {
   "cell_type": "markdown",
   "metadata": {},
   "source": [
    "# Training the Network"
   ]
  },
  {
   "cell_type": "code",
   "execution_count": 9,
   "metadata": {},
   "outputs": [
    {
     "name": "stderr",
     "output_type": "stream",
     "text": [
      "E:\\Anaconda3\\lib\\site-packages\\h5py\\__init__.py:72: UserWarning: h5py is running against HDF5 1.10.2 when it was built against 1.10.3, this may cause problems\n",
      "  '{0}.{1}.{2}'.format(*version.hdf5_built_version_tuple)\n",
      "Using TensorFlow backend.\n"
     ]
    }
   ],
   "source": [
    "import keras\n",
    "from keras import backend as k\n",
    "from keras.models import Sequential\n",
    "from keras.layers import Activation\n",
    "from keras.layers.core import Dense\n",
    "from keras.optimizers import Adam\n",
    "from keras.metrics import sparse_categorical_crossentropy"
   ]
  },
  {
   "cell_type": "code",
   "execution_count": 10,
   "metadata": {},
   "outputs": [],
   "source": [
    "model = Sequential([\n",
    "    Dense(16, input_shape=(scaled_train_samples.shape[1:]), activation='relu'),\n",
    "    Dense(32, activation='relu'),\n",
    "    Dense(2, activation='softmax')    \n",
    "])"
   ]
  },
  {
   "cell_type": "code",
   "execution_count": 11,
   "metadata": {},
   "outputs": [
    {
     "name": "stdout",
     "output_type": "stream",
     "text": [
      "_________________________________________________________________\n",
      "Layer (type)                 Output Shape              Param #   \n",
      "=================================================================\n",
      "dense_1 (Dense)              (None, 16)                32        \n",
      "_________________________________________________________________\n",
      "dense_2 (Dense)              (None, 32)                544       \n",
      "_________________________________________________________________\n",
      "dense_3 (Dense)              (None, 2)                 66        \n",
      "=================================================================\n",
      "Total params: 642\n",
      "Trainable params: 642\n",
      "Non-trainable params: 0\n",
      "_________________________________________________________________\n"
     ]
    }
   ],
   "source": [
    "model.summary()"
   ]
  },
  {
   "cell_type": "markdown",
   "metadata": {},
   "source": [
    "# Training the Net"
   ]
  },
  {
   "cell_type": "code",
   "execution_count": 12,
   "metadata": {},
   "outputs": [],
   "source": [
    "model.compile(Adam(lr=1e-3), loss='sparse_categorical_crossentropy', metrics=['accuracy'])"
   ]
  },
  {
   "cell_type": "code",
   "execution_count": 13,
   "metadata": {},
   "outputs": [
    {
     "name": "stdout",
     "output_type": "stream",
     "text": [
      "Train on 189000 samples, validate on 21000 samples\n",
      "Epoch 1/5\n",
      " - 23s - loss: 0.2568 - acc: 0.9344 - val_loss: 0.0791 - val_acc: 1.0000\n",
      "Epoch 2/5\n",
      " - 19s - loss: 0.2188 - acc: 0.9446 - val_loss: 0.0611 - val_acc: 1.0000\n",
      "Epoch 3/5\n",
      " - 19s - loss: 0.2127 - acc: 0.9457 - val_loss: 0.0588 - val_acc: 1.0000\n",
      "Epoch 4/5\n",
      " - 19s - loss: 0.2109 - acc: 0.9460 - val_loss: 0.0592 - val_acc: 1.0000\n",
      "Epoch 5/5\n",
      " - 19s - loss: 0.2101 - acc: 0.9462 - val_loss: 0.0531 - val_acc: 1.0000\n"
     ]
    },
    {
     "data": {
      "text/plain": [
       "<keras.callbacks.History at 0x1f3d2493630>"
      ]
     },
     "execution_count": 13,
     "metadata": {},
     "output_type": "execute_result"
    }
   ],
   "source": [
    "model.fit(scaled_train_samples, train_labels, validation_split=0.1, batch_size=32, epochs=5, shuffle=True, verbose=2)"
   ]
  },
  {
   "cell_type": "markdown",
   "metadata": {},
   "source": [
    "# Preprocess Test Data"
   ]
  },
  {
   "cell_type": "code",
   "execution_count": 14,
   "metadata": {},
   "outputs": [],
   "source": [
    "test_labels = []\n",
    "test_samples = []"
   ]
  },
  {
   "cell_type": "code",
   "execution_count": 15,
   "metadata": {},
   "outputs": [],
   "source": [
    "for i in range(1000):\n",
    "    random_younger = randint(13, 64)\n",
    "    test_samples.append(random_younger)\n",
    "    test_labels.append(1)\n",
    "    \n",
    "    random_older = randint(65, 100)\n",
    "    test_samples.append(random_older)\n",
    "    test_labels.append(0) \n",
    "    \n",
    "for i in range(20000):\n",
    "    random_younger = randint(13, 64)\n",
    "    test_samples.append(random_younger)\n",
    "    test_labels.append(0)\n",
    "    \n",
    "    random_older = randint(65, 100)\n",
    "    test_samples.append(random_older)\n",
    "    test_labels.append(1)   "
   ]
  },
  {
   "cell_type": "code",
   "execution_count": 16,
   "metadata": {},
   "outputs": [],
   "source": [
    "test_labels = np.array(test_labels)\n",
    "test_samples = np.array(test_samples)"
   ]
  },
  {
   "cell_type": "code",
   "execution_count": 17,
   "metadata": {},
   "outputs": [
    {
     "name": "stderr",
     "output_type": "stream",
     "text": [
      "E:\\Anaconda3\\lib\\site-packages\\sklearn\\utils\\validation.py:590: DataConversionWarning: Data with input dtype int32 was converted to float64 by MinMaxScaler.\n",
      "  warnings.warn(msg, DataConversionWarning)\n"
     ]
    }
   ],
   "source": [
    "scaler = MinMaxScaler(feature_range=(0,1))\n",
    "scaled_test_samples = scaler.fit_transform(test_samples.reshape(-1,1))"
   ]
  },
  {
   "cell_type": "markdown",
   "metadata": {},
   "source": [
    "# Predict"
   ]
  },
  {
   "cell_type": "code",
   "execution_count": 18,
   "metadata": {},
   "outputs": [],
   "source": [
    "prediction = model.predict(scaled_test_samples, batch_size=32, verbose=0)"
   ]
  },
  {
   "cell_type": "code",
   "execution_count": 19,
   "metadata": {},
   "outputs": [
    {
     "name": "stdout",
     "output_type": "stream",
     "text": [
      "[0.95325446 0.04674547]\n",
      "[0.05235474 0.94764525]\n",
      "[0.95334387 0.04665617]\n",
      "[0.05114095 0.9488591 ]\n",
      "[0.953701   0.04629898]\n",
      "[0.05230141 0.9476986 ]\n",
      "[0.9538321  0.04616793]\n",
      "[0.0509846 0.9490154]\n",
      "[0.9542279  0.04577206]\n",
      "[0.0509846 0.9490154]\n"
     ]
    },
    {
     "data": {
      "text/plain": [
       "[None, None, None, None, None, None, None, None, None, None]"
      ]
     },
     "execution_count": 19,
     "metadata": {},
     "output_type": "execute_result"
    }
   ],
   "source": [
    "# printing a sample of the predictions\n",
    "[print(i) for i in prediction[:10]]"
   ]
  },
  {
   "cell_type": "code",
   "execution_count": 20,
   "metadata": {},
   "outputs": [],
   "source": [
    "class_prediction = model.predict_classes(scaled_test_samples, batch_size=32, verbose=0)"
   ]
  },
  {
   "cell_type": "code",
   "execution_count": 21,
   "metadata": {},
   "outputs": [
    {
     "name": "stdout",
     "output_type": "stream",
     "text": [
      "0\n",
      "1\n",
      "0\n",
      "1\n",
      "0\n",
      "1\n",
      "0\n",
      "1\n",
      "0\n",
      "1\n"
     ]
    },
    {
     "data": {
      "text/plain": [
       "[None, None, None, None, None, None, None, None, None, None]"
      ]
     },
     "execution_count": 21,
     "metadata": {},
     "output_type": "execute_result"
    }
   ],
   "source": [
    "[print(i) for i in class_prediction[:10]]"
   ]
  },
  {
   "cell_type": "markdown",
   "metadata": {},
   "source": [
    "# Confusing Matrix"
   ]
  },
  {
   "cell_type": "code",
   "execution_count": 22,
   "metadata": {},
   "outputs": [],
   "source": [
    "from sklearn.metrics import confusion_matrix\n",
    "import itertools\n",
    "import matplotlib.pyplot as plt"
   ]
  },
  {
   "cell_type": "code",
   "execution_count": 23,
   "metadata": {},
   "outputs": [],
   "source": [
    "cm = confusion_matrix(test_labels, class_prediction)"
   ]
  },
  {
   "cell_type": "code",
   "execution_count": 24,
   "metadata": {},
   "outputs": [],
   "source": [
    "# taken from http://scikit-learn.org/stable/auto_examples/model_selection/plot_confusion_matrix.html\n",
    "\n",
    "def plot_confusion_matrix(cm, classes,\n",
    "                          normalize=False,\n",
    "                          title='Confusion matrix',\n",
    "                          cmap=plt.cm.Blues):\n",
    "    \"\"\"\n",
    "    This function prints and plots the confusion matrix.\n",
    "    Normalization can be applied by setting `normalize=True`.\n",
    "    \"\"\"\n",
    "    if normalize:\n",
    "        cm = cm.astype('float') / cm.sum(axis=1)[:, np.newaxis]\n",
    "        print(\"Normalized confusion matrix\")\n",
    "    else:\n",
    "        print('Confusion matrix, without normalization')\n",
    "\n",
    "    print(cm)\n",
    "\n",
    "    plt.imshow(cm, interpolation='nearest', cmap=cmap)\n",
    "    plt.title(title)\n",
    "    plt.colorbar()\n",
    "    tick_marks = np.arange(len(classes))\n",
    "    plt.xticks(tick_marks, classes, rotation=45)\n",
    "    plt.yticks(tick_marks, classes)\n",
    "\n",
    "    fmt = '.2f' if normalize else 'd'\n",
    "    thresh = cm.max() / 2.\n",
    "    for i, j in itertools.product(range(cm.shape[0]), range(cm.shape[1])):\n",
    "        plt.text(j, i, format(cm[i, j], fmt),\n",
    "                 horizontalalignment=\"center\",\n",
    "                 color=\"white\" if cm[i, j] > thresh else \"black\")\n",
    "\n",
    "    plt.ylabel('True label')\n",
    "    plt.xlabel('Predicted label')\n",
    "    plt.tight_layout()"
   ]
  },
  {
   "cell_type": "code",
   "execution_count": 25,
   "metadata": {},
   "outputs": [
    {
     "name": "stdout",
     "output_type": "stream",
     "text": [
      "Confusion matrix, without normalization\n",
      "[[20000  1000]\n",
      " [ 1000 20000]]\n"
     ]
    },
    {
     "data": {
      "image/png": "[encoded data removed]",
      "text/plain": [
       "<Figure size 432x288 with 2 Axes>"
      ]
     },
     "metadata": {
      "needs_background": "light"
     },
     "output_type": "display_data"
    }
   ],
   "source": [
    "cm_class_labels = ['No Side Effects', 'Side Effects']\n",
    "plot_confusion_matrix(cm, cm_class_labels, title='Confusion Matrix')"
   ]
  },
  {
   "cell_type": "markdown",
   "metadata": {},
   "source": [
    "# Save and Load Model"
   ]
  },
  {
   "cell_type": "code",
   "execution_count": 26,
   "metadata": {
    "scrolled": true
   },
   "outputs": [],
   "source": [
    "model.save('models/Deeplizard_oneHiddenKeras.h5')"
   ]
  },
  {
   "cell_type": "code",
   "execution_count": 27,
   "metadata": {},
   "outputs": [],
   "source": [
    "from keras.models import load_model\n",
    "new_model = load_model('models/Deeplizard_oneHiddenKeras.h5')"
   ]
  },
  {
   "cell_type": "code",
   "execution_count": 28,
   "metadata": {},
   "outputs": [
    {
     "name": "stdout",
     "output_type": "stream",
     "text": [
      "_________________________________________________________________\n",
      "Layer (type)                 Output Shape              Param #   \n",
      "=================================================================\n",
      "dense_1 (Dense)              (None, 16)                32        \n",
      "_________________________________________________________________\n",
      "dense_2 (Dense)              (None, 32)                544       \n",
      "_________________________________________________________________\n",
      "dense_3 (Dense)              (None, 2)                 66        \n",
      "=================================================================\n",
      "Total params: 642\n",
      "Trainable params: 642\n",
      "Non-trainable params: 0\n",
      "_________________________________________________________________\n"
     ]
    }
   ],
   "source": [
    "new_model.summary()"
   ]
  },
  {
   "cell_type": "code",
   "execution_count": 29,
   "metadata": {},
   "outputs": [
    {
     "data": {
      "text/plain": [
       "[array([[-0.29914993, -0.5658993 , -0.37603307, -0.2294279 , -0.26521865,\n",
       "          0.7149355 ,  0.4105768 , -0.11199683,  0.8548587 , -0.5728488 ,\n",
       "          0.6595871 , -0.11251396,  0.72197497, -0.44811326, -0.04006141,\n",
       "          0.5805998 ]], dtype=float32),\n",
       " array([ 0.17872913,  0.        ,  0.        ,  0.        ,  0.        ,\n",
       "        -0.414481  ,  0.1172111 ,  0.        , -0.49739113,  0.        ,\n",
       "        -0.381686  ,  0.        , -0.41859478,  0.        ,  0.        ,\n",
       "        -0.349923  ], dtype=float32),\n",
       " array([[-1.22798872e+00, -2.16321200e-01, -1.03525221e-01,\n",
       "          4.83313799e-02,  1.83223262e-01, -4.87914771e-01,\n",
       "         -4.27953452e-02, -1.02139139e+00, -1.54344112e-01,\n",
       "         -1.40362969e-02, -1.37878680e+00, -7.34412074e-02,\n",
       "         -3.47508609e-01, -1.60388052e-02,  1.46147221e-01,\n",
       "          6.23724461e-02,  1.91413984e-01, -1.12351179e+00,\n",
       "         -7.70243704e-02, -5.95859885e-01,  5.92939556e-02,\n",
       "          1.28918305e-01,  2.55514622e-01, -1.03984690e+00,\n",
       "         -1.02363795e-01, -3.15956622e-01, -1.25679153e-03,\n",
       "          9.37027931e-02,  1.19700849e-01, -4.91804361e-01,\n",
       "          6.12339675e-02, -1.16165626e+00],\n",
       "        [ 5.16997576e-02,  2.35177308e-01,  1.76888436e-01,\n",
       "          1.12553149e-01,  2.31674403e-01,  2.58098453e-01,\n",
       "         -7.07326829e-02,  2.41820544e-01,  3.31043333e-01,\n",
       "          2.05965310e-01,  2.82377332e-01, -3.46386641e-01,\n",
       "         -6.80282712e-03, -2.93304920e-02,  6.87401593e-02,\n",
       "          3.24693948e-01,  4.65664268e-03,  2.27659941e-03,\n",
       "         -1.83528274e-01,  2.28860170e-01,  2.96994656e-01,\n",
       "          9.32559669e-02,  2.50406265e-02, -1.37242183e-01,\n",
       "          1.52394474e-02, -2.40384966e-01, -3.19561273e-01,\n",
       "         -3.52565616e-01, -4.37239110e-02, -3.42262149e-01,\n",
       "         -1.25845596e-01, -1.31574869e-02],\n",
       "        [ 4.22624946e-02,  2.42939562e-01, -1.05223656e-01,\n",
       "         -1.90536708e-01, -3.37144941e-01, -2.28287891e-01,\n",
       "         -3.44754130e-01, -1.40037447e-01,  4.28360403e-02,\n",
       "         -2.58836776e-01, -1.85922384e-01,  1.81632847e-01,\n",
       "          1.28625780e-01,  3.20732564e-01, -4.17431593e-02,\n",
       "         -1.56919882e-01,  8.59035254e-02, -5.59001267e-02,\n",
       "         -1.36052042e-01, -3.38027775e-02,  2.68817633e-01,\n",
       "          1.23779148e-01, -4.68613207e-02, -6.33375347e-02,\n",
       "          2.67635256e-01, -2.62176663e-01,  5.11203408e-02,\n",
       "          3.37582260e-01,  2.93598801e-01,  1.60556644e-01,\n",
       "          2.89260238e-01,  2.13562220e-01],\n",
       "        [-2.54874706e-01, -1.25592798e-01, -3.20216745e-01,\n",
       "         -2.43184194e-01, -1.85299963e-01, -1.40074372e-01,\n",
       "         -1.29496604e-01,  1.96488589e-01,  6.68673217e-02,\n",
       "         -1.28749087e-01, -2.36826181e-01,  3.03552449e-02,\n",
       "          2.84293920e-01,  2.46849209e-01, -2.03963265e-01,\n",
       "          2.80559093e-01,  2.48570532e-01,  2.62262613e-01,\n",
       "          2.83309191e-01, -3.11832398e-01,  2.80984670e-01,\n",
       "         -1.01355165e-01,  2.07183510e-01,  1.49157792e-01,\n",
       "         -6.53051138e-02,  1.96322054e-01,  4.89568710e-03,\n",
       "          1.64339930e-01,  1.64421409e-01,  1.19788498e-01,\n",
       "          2.64824718e-01, -3.05766523e-01],\n",
       "        [ 5.97355664e-02,  1.92180246e-01, -3.18878323e-01,\n",
       "          2.53595799e-01,  3.52505416e-01,  1.72714561e-01,\n",
       "         -2.21381798e-01,  2.85321474e-02, -1.15424618e-01,\n",
       "          3.05897027e-01,  1.42482489e-01,  3.19351107e-01,\n",
       "          1.01845652e-01, -2.63520390e-01, -2.78344184e-01,\n",
       "         -2.50472128e-01,  5.25227189e-02,  4.17979658e-02,\n",
       "         -9.33077335e-02,  2.46299505e-02,  2.11277694e-01,\n",
       "         -1.66526407e-01, -2.13221744e-01, -1.96964696e-01,\n",
       "         -4.26238775e-02,  1.03011280e-01,  2.99580663e-01,\n",
       "         -2.40348220e-01,  1.04181796e-01,  3.11082602e-02,\n",
       "         -1.10064968e-01, -6.71159923e-02],\n",
       "        [-1.08610392e-01, -4.14509296e+00, -1.77653849e-01,\n",
       "          3.04447025e-01, -4.12991810e+00, -2.68309891e-01,\n",
       "         -3.72336531e+00,  7.13657215e-02, -1.70450211e-02,\n",
       "         -8.43117596e-04, -1.39578432e-01, -3.83271718e+00,\n",
       "         -2.44301245e-01,  2.13221014e-02,  1.43151104e-01,\n",
       "         -2.51310766e-01, -3.59297299e+00, -6.16097748e-02,\n",
       "         -5.88387251e-03, -4.82185870e-01,  1.18126482e-01,\n",
       "         -4.11874008e+00,  2.07626224e-02, -2.19122738e-01,\n",
       "         -4.04805231e+00,  3.85183394e-02, -4.32352018e+00,\n",
       "          2.83431351e-01, -1.67882860e-01,  1.57641992e-01,\n",
       "          5.65371215e-02, -7.38729388e-02],\n",
       "        [ 2.17865705e-01,  3.06471407e-01, -3.22353601e-01,\n",
       "         -1.77335560e-01,  1.01779260e-01,  1.57323301e-01,\n",
       "          2.21658543e-01,  1.35796532e-01, -3.15589607e-01,\n",
       "         -7.44431838e-02,  1.52986765e-01, -4.62976284e-03,\n",
       "         -1.98168471e-03, -2.94654101e-01, -3.00969720e-01,\n",
       "         -3.43689680e-01, -9.09514911e-03,  5.27580559e-01,\n",
       "         -2.76216865e-01,  5.12228429e-01, -2.04741880e-01,\n",
       "          1.09488003e-01, -3.29651892e-01,  1.74074858e-01,\n",
       "          2.79943585e-01, -8.04741681e-02,  2.99650282e-01,\n",
       "         -1.27519339e-01, -3.52404535e-01,  2.62576520e-01,\n",
       "         -2.02432737e-01,  6.25912547e-01],\n",
       "        [ 2.68607736e-02,  3.44813973e-01, -3.13221037e-01,\n",
       "          1.74032837e-01,  3.50379616e-01, -2.01418355e-01,\n",
       "         -3.08646441e-01,  2.50841975e-02, -1.61967874e-02,\n",
       "         -1.25335202e-01, -6.17012084e-02, -3.17895621e-01,\n",
       "         -2.88784474e-01,  1.43522322e-01,  1.50738269e-01,\n",
       "          2.88133234e-01,  2.18139857e-01, -2.20081985e-01,\n",
       "         -1.82675421e-02,  5.55917621e-02, -1.44131094e-01,\n",
       "         -3.32998276e-01, -8.28548968e-02, -3.06028694e-01,\n",
       "         -2.14897424e-01,  1.29941106e-01, -1.46466866e-01,\n",
       "          8.45074654e-02, -1.64728507e-01,  1.48395151e-01,\n",
       "         -2.42590606e-01, -2.75094926e-01],\n",
       "        [ 2.81837821e-01, -4.04440737e+00, -6.76553845e-02,\n",
       "         -1.02711916e-02, -3.74674106e+00,  5.26004173e-02,\n",
       "         -3.59847069e+00,  6.77030087e-02, -3.10811102e-02,\n",
       "          1.19936109e-01,  2.29016125e-01, -3.27092099e+00,\n",
       "         -1.49738088e-01, -1.04856968e-01,  1.55697197e-01,\n",
       "         -2.56286621e-01, -3.77930236e+00,  1.74967363e-01,\n",
       "         -2.91962087e-01, -8.05254877e-02, -1.03215516e-01,\n",
       "         -3.18837285e+00,  3.98350954e-02, -1.02165312e-01,\n",
       "         -3.58563757e+00, -3.14030260e-01, -3.91917300e+00,\n",
       "         -5.46867661e-02,  4.57991362e-02, -9.58985388e-02,\n",
       "         -3.28419715e-01,  1.26218066e-01],\n",
       "        [ 1.78354383e-02, -9.93680358e-02,  2.92685479e-01,\n",
       "          9.68393683e-02,  3.37216258e-03, -3.42494726e-01,\n",
       "          1.68402046e-01,  6.60584271e-02, -7.13082552e-02,\n",
       "          5.39516807e-02, -3.84009182e-02,  5.21552861e-02,\n",
       "         -2.55348861e-01,  3.38198513e-01, -3.27416182e-01,\n",
       "          2.15163827e-02, -8.74010921e-02,  3.38789791e-01,\n",
       "         -2.98621804e-01, -2.79904217e-01, -1.84755027e-02,\n",
       "          1.97690576e-01, -9.32016075e-02,  1.03212148e-01,\n",
       "         -2.09508017e-01,  2.69206494e-01, -1.14477828e-01,\n",
       "          9.79169905e-02,  1.60571426e-01, -9.41443443e-02,\n",
       "         -3.36914152e-01,  1.40856206e-01],\n",
       "        [-2.31287405e-01, -4.36962271e+00, -2.00367466e-01,\n",
       "         -3.12435836e-01, -4.18701267e+00,  1.83467880e-01,\n",
       "         -3.67718911e+00,  7.29508996e-02, -1.49373397e-01,\n",
       "         -1.76548511e-01,  8.89891945e-03, -4.10848570e+00,\n",
       "          2.89381355e-01,  1.33937806e-01, -3.04298639e-01,\n",
       "         -1.92176893e-01, -4.05699825e+00,  2.08547950e-01,\n",
       "         -2.34965220e-01, -6.96990117e-02, -2.07258895e-01,\n",
       "         -3.62305021e+00,  2.53350735e-02,  1.89552084e-01,\n",
       "         -4.32116842e+00,  7.15434551e-03, -4.27674055e+00,\n",
       "          8.69464278e-02,  1.82448000e-01,  1.18461140e-01,\n",
       "          7.26299882e-02,  1.95901632e-01],\n",
       "        [-2.29736567e-01, -1.93077147e-01, -3.10710669e-02,\n",
       "         -1.81779951e-01,  6.72451258e-02, -6.68374002e-02,\n",
       "          8.21769238e-04,  2.42028683e-01,  6.97296858e-02,\n",
       "         -3.21578681e-02, -2.80333608e-01, -9.33484435e-02,\n",
       "         -1.48253217e-01,  2.83287317e-01,  2.01038331e-01,\n",
       "         -3.10749710e-01, -2.62183160e-01,  1.63737446e-01,\n",
       "          1.12202495e-01,  2.28196591e-01,  3.76683474e-03,\n",
       "         -3.18832546e-01, -1.23739690e-01, -3.09093863e-01,\n",
       "          7.17460811e-02, -2.99066782e-01,  3.22767824e-01,\n",
       "         -4.11424935e-02,  7.93043375e-02,  3.51798832e-02,\n",
       "         -3.16512614e-01,  3.35864455e-01],\n",
       "        [-4.53133583e-02, -4.46291208e+00, -1.17305383e-01,\n",
       "          2.90398508e-01, -4.07360363e+00, -3.09144258e-01,\n",
       "         -3.74826550e+00, -1.35877386e-01,  2.50790685e-01,\n",
       "         -3.45081151e-01,  8.20804164e-02, -4.23439646e+00,\n",
       "         -7.89237395e-03, -3.04376096e-01, -2.94905633e-01,\n",
       "         -3.91597450e-02, -4.23046684e+00,  1.90500140e-01,\n",
       "         -3.46277654e-01, -3.74283344e-01, -2.62395978e-01,\n",
       "         -4.00813293e+00,  4.14443314e-02,  1.28134176e-01,\n",
       "         -4.55870581e+00,  1.62248999e-01, -3.82891631e+00,\n",
       "         -3.14561248e-01, -2.09567443e-01, -1.04696460e-01,\n",
       "         -4.95925248e-02, -8.15264694e-03],\n",
       "        [ 2.98554868e-01, -1.52000338e-01, -6.42661750e-02,\n",
       "          2.70693332e-01, -3.50984544e-01, -1.78510025e-01,\n",
       "         -3.61525416e-02, -1.73895448e-01, -2.40502656e-02,\n",
       "          1.41116977e-02,  2.88110524e-01, -2.18075454e-01,\n",
       "         -1.83574900e-01,  2.23326087e-02,  5.73292375e-02,\n",
       "         -2.10439205e-01,  1.92142934e-01,  2.62074172e-02,\n",
       "         -2.06820235e-01,  1.75112635e-01, -1.04820311e-01,\n",
       "          5.19427955e-02, -3.47216010e-01, -1.13428637e-01,\n",
       "          1.74295932e-01, -1.71002567e-01, -3.01961690e-01,\n",
       "          1.45454496e-01,  2.96475857e-01,  3.28909189e-01,\n",
       "          5.93652725e-02, -8.92079473e-02],\n",
       "        [ 2.20494837e-01, -7.83327818e-02,  2.07896739e-01,\n",
       "          2.18142956e-01,  1.60696059e-01,  2.44136184e-01,\n",
       "          2.99067646e-01,  1.31452233e-01,  2.32626647e-01,\n",
       "         -7.54447877e-02, -4.27946448e-02, -2.27359742e-01,\n",
       "         -1.60818040e-01, -2.90447831e-01,  1.21904612e-01,\n",
       "         -2.01828182e-01,  3.11860234e-01, -2.83886075e-01,\n",
       "         -2.84368992e-02, -1.10390946e-01, -1.38252452e-01,\n",
       "         -7.55133331e-02,  2.09984809e-01, -2.07557216e-01,\n",
       "         -1.53467625e-01,  2.33969182e-01, -2.11416602e-01,\n",
       "          1.86128169e-01,  1.23093158e-01,  3.22256655e-01,\n",
       "          2.84922570e-01,  1.22808993e-01],\n",
       "        [ 5.69813363e-02, -2.15747285e+00, -2.30495811e-01,\n",
       "         -1.54357776e-01, -1.98727190e+00,  8.66905972e-02,\n",
       "         -2.40883636e+00,  2.58575916e-01,  2.63053387e-01,\n",
       "          1.91622242e-01,  1.02365009e-01, -2.05477071e+00,\n",
       "          9.68359709e-02, -1.18826121e-01,  7.78930187e-02,\n",
       "          2.10393459e-01, -1.89997721e+00, -3.26348484e-01,\n",
       "          1.47962242e-01, -4.42881435e-01, -3.89749706e-02,\n",
       "         -2.22041893e+00,  6.80513978e-02,  2.64953792e-01,\n",
       "         -2.41171741e+00,  1.52267367e-01, -2.39958262e+00,\n",
       "          6.61902651e-02, -7.93097317e-02,  1.71297207e-01,\n",
       "         -2.11303383e-01, -1.74224228e-01]], dtype=float32),\n",
       " array([ 0.09584536,  0.14779523,  0.        ,  0.        ,  0.20058195,\n",
       "         0.37521476,  0.13704883,  0.20568809,  0.        , -0.01286114,\n",
       "         0.13061927,  0.23364526, -0.02445873,  0.        ,  0.        ,\n",
       "         0.        ,  0.2359468 ,  0.17187223,  0.        ,  0.27593508,\n",
       "         0.        ,  0.18034522, -0.01638733,  0.18182081,  0.14695114,\n",
       "         0.        ,  0.1367014 , -0.00663239,  0.        ,  0.2773122 ,\n",
       "         0.        ,  0.08536145], dtype=float32),\n",
       " array([[-0.32086295, -0.04138269],\n",
       "        [ 1.6999418 , -1.857167  ],\n",
       "        [-0.37788877, -0.31792867],\n",
       "        [ 0.3368154 ,  0.24762818],\n",
       "        [ 1.4947236 , -1.4335473 ],\n",
       "        [-0.74826676,  0.5043404 ],\n",
       "        [ 1.7225577 , -1.6061027 ],\n",
       "        [-0.29201984,  0.31747928],\n",
       "        [ 0.02391562, -0.06682098],\n",
       "        [ 0.3071597 ,  0.30760416],\n",
       "        [-0.09539545,  0.32187825],\n",
       "        [ 1.781827  , -1.2790667 ],\n",
       "        [ 0.30302465, -0.20068623],\n",
       "        [ 0.1303325 , -0.30954954],\n",
       "        [-0.21104318,  0.01980352],\n",
       "        [-0.0035415 ,  0.31501707],\n",
       "        [ 1.2833269 , -1.5743467 ],\n",
       "        [ 0.05301435,  0.5097263 ],\n",
       "        [-0.19037402,  0.28775266],\n",
       "        [-0.19230194,  0.53982085],\n",
       "        [-0.10686338,  0.31242624],\n",
       "        [ 1.4565614 , -1.2907633 ],\n",
       "        [ 0.18617626,  0.361237  ],\n",
       "        [-0.25858772,  0.09567112],\n",
       "        [ 1.8193564 , -1.3311874 ],\n",
       "        [-0.09227997, -0.2008456 ],\n",
       "        [ 1.8756734 , -1.4208257 ],\n",
       "        [-0.17193083, -0.0549986 ],\n",
       "        [ 0.19893935, -0.02358249],\n",
       "        [-0.43353903,  0.23512521],\n",
       "        [ 0.13900247, -0.06359494],\n",
       "        [-0.48832178, -0.17452331]], dtype=float32),\n",
       " array([-0.56932586,  0.5693265 ], dtype=float32)]"
      ]
     },
     "execution_count": 29,
     "metadata": {},
     "output_type": "execute_result"
    }
   ],
   "source": [
    "new_model.get_weights()"
   ]
  },
  {
   "cell_type": "code",
   "execution_count": 30,
   "metadata": {},
   "outputs": [
    {
     "data": {
      "text/plain": [
       "<keras.optimizers.Adam at 0x1f475b283c8>"
      ]
     },
     "execution_count": 30,
     "metadata": {},
     "output_type": "execute_result"
    }
   ],
   "source": [
    "new_model.optimizer"
   ]
  },
  {
   "cell_type": "markdown",
   "metadata": {},
   "source": [
    "# model.to_jason() : Saving only the architecture"
   ]
  },
  {
   "cell_type": "code",
   "execution_count": 32,
   "metadata": {},
   "outputs": [],
   "source": [
    "jason_string = model.to_json()"
   ]
  },
  {
   "cell_type": "code",
   "execution_count": 33,
   "metadata": {},
   "outputs": [
    {
     "data": {
      "text/plain": [
       "'{\"class_name\": \"Sequential\", \"config\": [{\"class_name\": \"Dense\", \"config\": {\"name\": \"dense_1\", \"trainable\": true, \"batch_input_shape\": [null, 1], \"dtype\": \"float32\", \"units\": 16, \"activation\": \"relu\", \"use_bias\": true, \"kernel_initializer\": {\"class_name\": \"VarianceScaling\", \"config\": {\"scale\": 1.0, \"mode\": \"fan_avg\", \"distribution\": \"uniform\", \"seed\": null}}, \"bias_initializer\": {\"class_name\": \"Zeros\", \"config\": {}}, \"kernel_regularizer\": null, \"bias_regularizer\": null, \"activity_regularizer\": null, \"kernel_constraint\": null, \"bias_constraint\": null}}, {\"class_name\": \"Dense\", \"config\": {\"name\": \"dense_2\", \"trainable\": true, \"units\": 32, \"activation\": \"relu\", \"use_bias\": true, \"kernel_initializer\": {\"class_name\": \"VarianceScaling\", \"config\": {\"scale\": 1.0, \"mode\": \"fan_avg\", \"distribution\": \"uniform\", \"seed\": null}}, \"bias_initializer\": {\"class_name\": \"Zeros\", \"config\": {}}, \"kernel_regularizer\": null, \"bias_regularizer\": null, \"activity_regularizer\": null, \"kernel_constraint\": null, \"bias_constraint\": null}}, {\"class_name\": \"Dense\", \"config\": {\"name\": \"dense_3\", \"trainable\": true, \"units\": 2, \"activation\": \"softmax\", \"use_bias\": true, \"kernel_initializer\": {\"class_name\": \"VarianceScaling\", \"config\": {\"scale\": 1.0, \"mode\": \"fan_avg\", \"distribution\": \"uniform\", \"seed\": null}}, \"bias_initializer\": {\"class_name\": \"Zeros\", \"config\": {}}, \"kernel_regularizer\": null, \"bias_regularizer\": null, \"activity_regularizer\": null, \"kernel_constraint\": null, \"bias_constraint\": null}}], \"keras_version\": \"2.2.2\", \"backend\": \"tensorflow\"}'"
      ]
     },
     "execution_count": 33,
     "metadata": {},
     "output_type": "execute_result"
    }
   ],
   "source": [
    "jason_string"
   ]
  },
  {
   "cell_type": "code",
   "execution_count": 34,
   "metadata": {},
   "outputs": [],
   "source": [
    "from keras.models import model_from_json\n",
    "model_architecture = model_from_json(jason_string)"
   ]
  },
  {
   "cell_type": "code",
   "execution_count": 35,
   "metadata": {},
   "outputs": [
    {
     "name": "stdout",
     "output_type": "stream",
     "text": [
      "_________________________________________________________________\n",
      "Layer (type)                 Output Shape              Param #   \n",
      "=================================================================\n",
      "dense_1 (Dense)              (None, 16)                32        \n",
      "_________________________________________________________________\n",
      "dense_2 (Dense)              (None, 32)                544       \n",
      "_________________________________________________________________\n",
      "dense_3 (Dense)              (None, 2)                 66        \n",
      "=================================================================\n",
      "Total params: 642\n",
      "Trainable params: 642\n",
      "Non-trainable params: 0\n",
      "_________________________________________________________________\n"
     ]
    }
   ],
   "source": [
    "model_architecture.summary()"
   ]
  },
  {
   "cell_type": "markdown",
   "metadata": {},
   "source": [
    "# model.save_weights() : Saving only the weights"
   ]
  },
  {
   "cell_type": "code",
   "execution_count": 36,
   "metadata": {},
   "outputs": [],
   "source": [
    "model.save_weights('models/Deeplizard_oneHiddenKeras_weights.h5')"
   ]
  },
  {
   "cell_type": "code",
   "execution_count": 37,
   "metadata": {},
   "outputs": [],
   "source": [
    "model2 = Sequential([\n",
    "    Dense(16, input_shape=(scaled_train_samples.shape[1:]), activation='relu'),\n",
    "    Dense(32, activation='relu'),\n",
    "    Dense(2, activation='softmax')    \n",
    "])"
   ]
  },
  {
   "cell_type": "code",
   "execution_count": 38,
   "metadata": {},
   "outputs": [],
   "source": [
    "model2.load_weights('models/Deeplizard_oneHiddenKeras_weights.h5')"
   ]
  }
 ],
 "metadata": {
  "kernelspec": {
   "display_name": "Python 3",
   "language": "python",
   "name": "python3"
  },
  "language_info": {
   "codemirror_mode": {
    "name": "ipython",
    "version": 3
   },
   "file_extension": ".py",
   "mimetype": "text/x-python",
   "name": "python",
   "nbconvert_exporter": "python",
   "pygments_lexer": "ipython3",
   "version": "3.6.6"
  }
 },
 "nbformat": 4,
 "nbformat_minor": 2
}
