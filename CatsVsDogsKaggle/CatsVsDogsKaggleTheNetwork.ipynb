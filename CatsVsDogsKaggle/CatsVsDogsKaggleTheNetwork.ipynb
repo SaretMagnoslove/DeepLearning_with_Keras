{
 "cells": [
  {
   "cell_type": "markdown",
   "metadata": {},
   "source": [
    "# Imports"
   ]
  },
  {
   "cell_type": "code",
   "execution_count": 1,
   "metadata": {},
   "outputs": [
    {
     "name": "stderr",
     "output_type": "stream",
     "text": [
      "E:\\Anaconda3\\lib\\site-packages\\h5py\\__init__.py:72: UserWarning: h5py is running against HDF5 1.10.2 when it was built against 1.10.3, this may cause problems\n",
      "  '{0}.{1}.{2}'.format(*version.hdf5_built_version_tuple)\n",
      "Using TensorFlow backend.\n"
     ]
    }
   ],
   "source": [
    "import tensorflow as tf\n",
    "import tensorflow as tf\n",
    "from keras.backend.tensorflow_backend import set_session\n",
    "config = tf.ConfigProto()\n",
    "config.gpu_options.allow_growth = True  # dynamically grow the memory used on the GPU\n",
    "config.log_device_placement = True  # to log device placement (on which device the operation ran)\n",
    "                                    # (nothing gets printed in Jupyter, only if you run it standalone)\n",
    "sess = tf.Session(config=config)\n",
    "set_session(sess)  # set this TensorFlow session as the default session for Keras\n",
    "\n",
    "from tensorflow.keras.models import Sequential\n",
    "from tensorflow.keras.layers import Dense, Dropout, Activation, Flatten, Conv2D, MaxPooling2D\n",
    "import pickle"
   ]
  },
  {
   "cell_type": "markdown",
   "metadata": {},
   "source": [
    "# Loading and Normalizing Data"
   ]
  },
  {
   "cell_type": "code",
   "execution_count": 2,
   "metadata": {},
   "outputs": [],
   "source": [
    "X = pickle.load(open('X.pickle', 'rb'))\n",
    "y = pickle.load(open('y.pickle', 'rb'))\n",
    "\n",
    "X = X/255.00"
   ]
  },
  {
   "cell_type": "markdown",
   "metadata": {},
   "source": [
    "# Building the Model"
   ]
  },
  {
   "cell_type": "code",
   "execution_count": 4,
   "metadata": {},
   "outputs": [
    {
     "name": "stdout",
     "output_type": "stream",
     "text": [
      "Train on 17500 samples, validate on 7500 samples\n",
      "Epoch 1/10\n",
      "17500/17500 [==============================] - 11s 617us/step - loss: 0.6279 - acc: 0.6405 - val_loss: 0.5770 - val_acc: 0.7039\n",
      "Epoch 2/10\n",
      "17500/17500 [==============================] - 10s 568us/step - loss: 0.5441 - acc: 0.7277 - val_loss: 0.5468 - val_acc: 0.7259\n",
      "Epoch 3/10\n",
      "17500/17500 [==============================] - 10s 572us/step - loss: 0.5016 - acc: 0.7591 - val_loss: 0.5083 - val_acc: 0.7559\n",
      "Epoch 4/10\n",
      "17500/17500 [==============================] - 10s 561us/step - loss: 0.4756 - acc: 0.7739 - val_loss: 0.4947 - val_acc: 0.7639\n",
      "Epoch 5/10\n",
      "17500/17500 [==============================] - 10s 563us/step - loss: 0.4472 - acc: 0.7898 - val_loss: 0.5228 - val_acc: 0.7529\n",
      "Epoch 6/10\n",
      "17500/17500 [==============================] - 10s 561us/step - loss: 0.4285 - acc: 0.8001 - val_loss: 0.4924 - val_acc: 0.7645\n",
      "Epoch 7/10\n",
      "17500/17500 [==============================] - 10s 563us/step - loss: 0.4011 - acc: 0.8158 - val_loss: 0.4853 - val_acc: 0.7792\n",
      "Epoch 8/10\n",
      "17500/17500 [==============================] - 10s 560us/step - loss: 0.3832 - acc: 0.8249 - val_loss: 0.4975 - val_acc: 0.7693\n",
      "Epoch 9/10\n",
      "17500/17500 [==============================] - 10s 559us/step - loss: 0.3643 - acc: 0.8355 - val_loss: 0.5046 - val_acc: 0.7716\n",
      "Epoch 10/10\n",
      "17500/17500 [==============================] - 10s 556us/step - loss: 0.3458 - acc: 0.8448 - val_loss: 0.5263 - val_acc: 0.7699\n"
     ]
    },
    {
     "data": {
      "text/plain": [
       "<tensorflow.python.keras.callbacks.History at 0x1b3600cdda0>"
      ]
     },
     "execution_count": 4,
     "metadata": {},
     "output_type": "execute_result"
    }
   ],
   "source": [
    "model = Sequential()\n",
    "\n",
    "model.add(Conv2D(64, (3,3), input_shape=X.shape[1:]))\n",
    "model.add(Activation('relu'))\n",
    "model.add(MaxPooling2D(pool_size=(2,2)))\n",
    "\n",
    "model.add(Conv2D(64, (3,3)))\n",
    "model.add(Activation('relu'))\n",
    "model.add(MaxPooling2D(pool_size=(2,2)))\n",
    "\n",
    "model.add(Flatten())\n",
    "model.add(Dense(64))\n",
    "\n",
    "model.add(Dense(1))\n",
    "model.add(Activation('sigmoid'))\n",
    "\n",
    "model.compile(loss='binary_crossentropy',\n",
    "             optimizer='adam',\n",
    "             metrics=['accuracy'])\n",
    "\n",
    "model.fit(X, y, batch_size=32, epochs=10, validation_split=0.3)"
   ]
  }
 ],
 "metadata": {
  "kernelspec": {
   "display_name": "Python 3",
   "language": "python",
   "name": "python3"
  },
  "language_info": {
   "codemirror_mode": {
    "name": "ipython",
    "version": 3
   },
   "file_extension": ".py",
   "mimetype": "text/x-python",
   "name": "python",
   "nbconvert_exporter": "python",
   "pygments_lexer": "ipython3",
   "version": "3.6.6"
  }
 },
 "nbformat": 4,
 "nbformat_minor": 2
}
